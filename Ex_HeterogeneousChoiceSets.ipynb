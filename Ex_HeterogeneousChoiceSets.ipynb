{
  "cells": [
    {
      "cell_type": "markdown",
      "metadata": {
        "colab_type": "text",
        "id": "view-in-github"
      },
      "source": [
        "<a href=\"https://colab.research.google.com/github/hkaido0718/IncompleteDiscreteChoice/blob/main/Ex_HeterogeneousChoiceSets.ipynb\" target=\"_parent\"><img src=\"https://colab.research.google.com/assets/colab-badge.svg\" alt=\"Open In Colab\"/></a>"
      ]
    },
    {
      "cell_type": "markdown",
      "metadata": {
        "id": "ZJ9vpz84ZNln"
      },
      "source": [
        "# Discrete Choice with Heterogeneous Choice Sets\n",
        "\n",
        "Consider choosing an option from an unobserved choice set $C\\subset\\{1,\\dots,J\\}$ (e.g., insurance plans with different deductibles and premia). Each individual draws their own choice set $C$ and chooses the alternative that maximizes their utility $W_j(x_j,U;\\theta),j\\in C$.\n"
      ]
    },
    {
      "cell_type": "markdown",
      "metadata": {
        "id": "SSi0z96WkavP"
      },
      "source": [
        "# An illustrative example.\n",
        "\n",
        "Suppose the utility from alternative $j$ is\n",
        "\\begin{align*}\n",
        "W_j(x_j;\\theta)+U_j\n",
        "\\end{align*}\n",
        "Following Barseghyan et al. (2021), we leave the choice set formation process specification flexible. The only restriction we impose is $|C|\\ge \\kappa$ for a known $\\kappa\\ge 2$.\n",
        "\n",
        "For example, suppose $J=3$ and $\\kappa=2$. Then, we only assume that the choice set contains at least two alternatives. How the individuals draw $C$ is allowed to be related to their preferences and observable characteristics, but we do not model the choice set formation process. The model's prediction is\n",
        "\n",
        "$$G(u|x;\\theta)=\\Big\\{j:j\\in \\text{argmax}_{k\\in C}W_k(x_k;\\theta)+u_k, \\text{ for some }C, |C|\\ge 2\\Big\\}.$$"
      ]
    },
    {
      "cell_type": "markdown",
      "metadata": {
        "id": "QOoAB97EPnMh"
      },
      "source": [
        "Now, let's see when $Y=3$ is chosen. There are a few possibilities\n",
        "- Alternative 3 maximizes $W_j(x_j;\\theta)+U_j$ among all alternatives (i.e., $C=\\{1,2,3\\}$);\n",
        "- Alternative 3 is preferred to alternative 1 and $C=\\{1,3\\}$;\n",
        "- Alternative 3 is preferred to alternative 2 and $C=\\{2,3\\}$.\n",
        "\n",
        "We allow all scenarios. Hence, $j=3$ being chosen is consistent with some choice set as long as\n",
        "\\begin{align*}\n",
        "\\Delta_{23}W(x;\\theta)+\\Delta_{23}u&\\le 0\n",
        "\\end{align*}\n",
        "or\n",
        "\\begin{align*}\n",
        "\\Delta_{13}W(x;\\theta)+\\Delta_{13}u&\\le 0,\n",
        "\\end{align*}\n",
        "where $\\Delta_{23}W(x;\\theta)=W_2(x;\\theta)-W_3(x;\\theta)$ and $\\Delta_{23}u=u_2-u_3$. This region is plotted below."
      ]
    },
    {
      "cell_type": "code",
      "execution_count": 1,
      "metadata": {
        "colab": {
          "base_uri": "https://localhost:8080/",
          "height": 569
        },
        "id": "T44fPBgorS9s",
        "outputId": "2e5d026c-84f1-41b8-fceb-34f955e592c6"
      },
      "outputs": [
        {
          "name": "stderr",
          "output_type": "stream",
          "text": [
            "<>:28: SyntaxWarning: invalid escape sequence '\\D'\n",
            "<>:30: SyntaxWarning: invalid escape sequence '\\D'\n",
            "<>:31: SyntaxWarning: invalid escape sequence '\\D'\n",
            "<>:28: SyntaxWarning: invalid escape sequence '\\D'\n",
            "<>:30: SyntaxWarning: invalid escape sequence '\\D'\n",
            "<>:31: SyntaxWarning: invalid escape sequence '\\D'\n",
            "C:\\Users\\tianz\\AppData\\Local\\Temp\\ipykernel_52236\\4013507881.py:28: SyntaxWarning: invalid escape sequence '\\D'\n",
            "  plt.title('Regions in the $(\\Delta_{13}u, \\Delta_{23}u)$ Plane')\n",
            "C:\\Users\\tianz\\AppData\\Local\\Temp\\ipykernel_52236\\4013507881.py:30: SyntaxWarning: invalid escape sequence '\\D'\n",
            "  plt.xlabel('$\\Delta_{13}u$')\n",
            "C:\\Users\\tianz\\AppData\\Local\\Temp\\ipykernel_52236\\4013507881.py:31: SyntaxWarning: invalid escape sequence '\\D'\n",
            "  plt.ylabel('$\\Delta_{23}u$')\n"
          ]
        },
        {
          "data": {
            "image/png": "[encoded data removed]",
            "text/plain": [
              "<Figure size 600x600 with 1 Axes>"
            ]
          },
          "metadata": {},
          "output_type": "display_data"
        }
      ],
      "source": [
        "import matplotlib.pyplot as plt\n",
        "import numpy as np\n",
        "\n",
        "# Define the parameters\n",
        "delta23_x_theta = 0.5  # Replace with actual value\n",
        "delta13_x_theta = 2.0  # Replace with actual value\n",
        "\n",
        "# Define the range for the plot\n",
        "u_min, u_max = -5, 5\n",
        "v_min, v_max = -5, 5\n",
        "\n",
        "# Create the grid for plotting\n",
        "delta13_u = np.linspace(u_min, u_max, 400)\n",
        "delta23_u = np.linspace(v_min, v_max, 400)\n",
        "delta13_u, delta23_u = np.meshgrid(delta13_u, delta23_u)\n",
        "\n",
        "# Compute the regions\n",
        "region = np.zeros(delta13_u.shape, dtype=int)\n",
        "region[(delta23_x_theta + delta23_u <= 0) | (delta13_x_theta + delta13_u <= 0)] = 1\n",
        "\n",
        "# Plot the region\n",
        "plt.figure(figsize=(6, 6))\n",
        "contour = plt.contour(delta13_u, delta23_u, region, levels=[0.5], colors='red')\n",
        "plt.contourf(delta13_u, delta23_u, region, levels=[0.5, 1], colors=['red'], alpha=0.5)\n",
        "\n",
        "# Remove the background\n",
        "plt.gca().patch.set_color('white')\n",
        "plt.title('Regions in the $(\\Delta_{13}u, \\Delta_{23}u)$ Plane')\n",
        "plt.text(0, -4, 'Y=3 is allowed', fontsize=12, ha='center', va='center')\n",
        "plt.xlabel('$\\Delta_{13}u$')\n",
        "plt.ylabel('$\\Delta_{23}u$')\n",
        "plt.show()"
      ]
    },
    {
      "cell_type": "markdown",
      "metadata": {
        "id": "cOYgWO6FsDgw"
      },
      "source": [
        "Similarly, $Y$=2 is permissible if\n",
        "- Alternative 2 maximizes $W_j(x_j;\\theta)+U_j$ among all alternatives (i.e., $C=\\{1,2,3\\}$);\n",
        "- Alternative 2 is preferred to alternative 1 and $C=\\{1,2\\}$;\n",
        "- Alternative 2 is preferred to alternative 3 and $C=\\{2,3\\}$.\n",
        "\n",
        "As in the previous case, $Y=2$ is therefore permissible as long as\n",
        "\\begin{align*}\n",
        "\\Delta_{12}W(x;\\theta)+\\Delta_{12}u&\\le 0\n",
        "\\end{align*}\n",
        "or\n",
        "\\begin{align*}\n",
        "\\Delta_{23}W(x;\\theta)+\\Delta_{23}u&\\ge 0.\n",
        "\\end{align*}\n",
        "\n",
        "Note that $\\Delta_{12}u=\\Delta_{13}u-\\Delta_{23}u$. Hence, we may re-write the conditions as\n",
        "\\begin{align*}\n",
        "\\Delta_{13}W(x;\\theta)-\\Delta_{23}W(x;\\theta)+\\Delta_{13}u-\\Delta_{23}u&\\le 0\n",
        "\\end{align*}\n",
        "or\n",
        "\\begin{align*}\n",
        "\\Delta_{23}W(x;\\theta)+\\Delta_{23}u&\\ge 0.\n",
        "\\end{align*}\n",
        "Let's plot the region again."
      ]
    },
    {
      "cell_type": "code",
      "execution_count": 2,
      "metadata": {
        "colab": {
          "base_uri": "https://localhost:8080/",
          "height": 569
        },
        "id": "Hx8R42i5ty9M",
        "outputId": "81e93a30-961a-4ea4-dc66-ce05ba9613e2"
      },
      "outputs": [
        {
          "name": "stderr",
          "output_type": "stream",
          "text": [
            "<>:12: SyntaxWarning: invalid escape sequence '\\D'\n",
            "<>:14: SyntaxWarning: invalid escape sequence '\\D'\n",
            "<>:15: SyntaxWarning: invalid escape sequence '\\D'\n",
            "<>:12: SyntaxWarning: invalid escape sequence '\\D'\n",
            "<>:14: SyntaxWarning: invalid escape sequence '\\D'\n",
            "<>:15: SyntaxWarning: invalid escape sequence '\\D'\n",
            "C:\\Users\\tianz\\AppData\\Local\\Temp\\ipykernel_52236\\3524971522.py:12: SyntaxWarning: invalid escape sequence '\\D'\n",
            "  plt.title('Regions in the $(\\Delta_{13}u, \\Delta_{23}u)$ Plane')\n",
            "C:\\Users\\tianz\\AppData\\Local\\Temp\\ipykernel_52236\\3524971522.py:14: SyntaxWarning: invalid escape sequence '\\D'\n",
            "  plt.xlabel('$\\Delta_{13}u$')\n",
            "C:\\Users\\tianz\\AppData\\Local\\Temp\\ipykernel_52236\\3524971522.py:15: SyntaxWarning: invalid escape sequence '\\D'\n",
            "  plt.ylabel('$\\Delta_{23}u$')\n"
          ]
        },
        {
          "data": {
            "image/png": "[encoded data removed]",
            "text/plain": [
              "<Figure size 600x600 with 1 Axes>"
            ]
          },
          "metadata": {},
          "output_type": "display_data"
        }
      ],
      "source": [
        "# Compute the regions\n",
        "region = np.zeros(delta13_u.shape, dtype=int)\n",
        "region[(delta13_x_theta - delta23_x_theta + delta13_u - delta23_u <= 0) | (delta23_x_theta + delta23_u >= 0)] = 1\n",
        "\n",
        "# Plot the region\n",
        "plt.figure(figsize=(6, 6))\n",
        "contour = plt.contour(delta13_u, delta23_u, region, levels=[0.5], colors='blue')\n",
        "plt.contourf(delta13_u, delta23_u, region, levels=[0.5, 1], colors=['blue'], alpha=0.5)\n",
        "\n",
        "# Remove the background\n",
        "plt.gca().patch.set_color('white')\n",
        "plt.title('Regions in the $(\\Delta_{13}u, \\Delta_{23}u)$ Plane')\n",
        "plt.text(0, 2, 'Y=2 is allowed', fontsize=12, ha='center', va='center')\n",
        "plt.xlabel('$\\Delta_{13}u$')\n",
        "plt.ylabel('$\\Delta_{23}u$')\n",
        "plt.show()"
      ]
    },
    {
      "cell_type": "markdown",
      "metadata": {
        "id": "erFsxmCduE3x"
      },
      "source": [
        "Finally, a similar analysis suggests $Y=1$ is permissible when\n",
        "\\begin{align*}\n",
        "\\Delta_{13}W(x;\\theta)-\\Delta_{23}W(x;\\theta)+\\Delta_{13}u-\\Delta_{23}u&\\ge 0\n",
        "\\end{align*}\n",
        "or\n",
        "\\begin{align*}\n",
        "\\Delta_{13}W(x;\\theta)+\\Delta_{13}u&\\ge 0,\n",
        "\\end{align*}\n",
        "which is plotted below."
      ]
    },
    {
      "cell_type": "code",
      "execution_count": 3,
      "metadata": {
        "colab": {
          "base_uri": "https://localhost:8080/",
          "height": 569
        },
        "id": "XofH389YumD9",
        "outputId": "23a8084c-f849-476b-aea0-61c927361df5"
      },
      "outputs": [
        {
          "name": "stderr",
          "output_type": "stream",
          "text": [
            "<>:12: SyntaxWarning: invalid escape sequence '\\D'\n",
            "<>:14: SyntaxWarning: invalid escape sequence '\\D'\n",
            "<>:15: SyntaxWarning: invalid escape sequence '\\D'\n",
            "<>:12: SyntaxWarning: invalid escape sequence '\\D'\n",
            "<>:14: SyntaxWarning: invalid escape sequence '\\D'\n",
            "<>:15: SyntaxWarning: invalid escape sequence '\\D'\n",
            "C:\\Users\\tianz\\AppData\\Local\\Temp\\ipykernel_52236\\3650344935.py:12: SyntaxWarning: invalid escape sequence '\\D'\n",
            "  plt.title('Regions in the $(\\Delta_{13}u, \\Delta_{23}u)$ Plane')\n",
            "C:\\Users\\tianz\\AppData\\Local\\Temp\\ipykernel_52236\\3650344935.py:14: SyntaxWarning: invalid escape sequence '\\D'\n",
            "  plt.xlabel('$\\Delta_{13}u$')\n",
            "C:\\Users\\tianz\\AppData\\Local\\Temp\\ipykernel_52236\\3650344935.py:15: SyntaxWarning: invalid escape sequence '\\D'\n",
            "  plt.ylabel('$\\Delta_{23}u$')\n"
          ]
        },
        {
          "data": {
            "image/png": "[encoded data removed]",
            "text/plain": [
              "<Figure size 600x600 with 1 Axes>"
            ]
          },
          "metadata": {},
          "output_type": "display_data"
        }
      ],
      "source": [
        "# Compute the regions\n",
        "region = np.zeros(delta13_u.shape, dtype=int)\n",
        "region[(delta13_x_theta - delta23_x_theta + delta13_u - delta23_u >= 0) | (delta13_x_theta + delta13_u >= 0)] = 1\n",
        "\n",
        "# Plot the region\n",
        "plt.figure(figsize=(6, 6))\n",
        "contour = plt.contour(delta13_u, delta23_u, region, levels=[0.5], colors='green')\n",
        "plt.contourf(delta13_u, delta23_u, region, levels=[0.5, 1], colors=['green'], alpha=0.5)\n",
        "\n",
        "# Remove the background\n",
        "plt.gca().patch.set_color('white')\n",
        "plt.title('Regions in the $(\\Delta_{13}u, \\Delta_{23}u)$ Plane')\n",
        "plt.text(2, 0, 'Y=1 is allowed', fontsize=12, ha='center', va='center')\n",
        "plt.xlabel('$\\Delta_{13}u$')\n",
        "plt.ylabel('$\\Delta_{23}u$')\n",
        "plt.show()"
      ]
    },
    {
      "cell_type": "markdown",
      "metadata": {
        "id": "OBNsa--Hwlrc"
      },
      "source": [
        "Putting the regions together, the model prediction is as follows\n",
        "\\begin{align*}\n",
        "G(u|x;\\theta)=\\begin{cases}\n",
        "\\{1,2\\} & \\text{ if } \\Delta_{13}u \\ge -\\Delta_{13}W(x;\\theta),~\\Delta_{23}u\\ge - \\Delta_{23}W(x;\\theta), \\\\\n",
        "\\{2,3\\} & \\text{ if }\\Delta_{13}u\\le -\\Delta_{13}W(x;\\theta),~\\Delta_{13}u-\\Delta_{23}u\\le -(\\Delta_{13}W(x;\\theta)-\\Delta_{23}W(x;\\theta))\\\\\n",
        "\\{1,3\\} & \\text{ if } \\Delta_{23}u\\le -\\Delta_{23}W(x;\\theta),~\\Delta_{13}u-\\Delta_{23}u\\ge -(\\Delta_{13}W(x;\\theta)-\\Delta_{23}W(x;\\theta))\n",
        "\\end{cases}\n",
        "\\end{align*}\n",
        "So, the $U$-nodes consist of 3 regions plotted below."
      ]
    },
    {
      "cell_type": "code",
      "execution_count": 4,
      "metadata": {
        "colab": {
          "base_uri": "https://localhost:8080/",
          "height": 569
        },
        "id": "bqZ5kPi8z_y-",
        "outputId": "c817781c-cf25-44bf-eb16-3ed44b7ef49a"
      },
      "outputs": [
        {
          "name": "stderr",
          "output_type": "stream",
          "text": [
            "<>:10: SyntaxWarning: invalid escape sequence '\\D'\n",
            "<>:11: SyntaxWarning: invalid escape sequence '\\D'\n",
            "<>:12: SyntaxWarning: invalid escape sequence '\\D'\n",
            "<>:10: SyntaxWarning: invalid escape sequence '\\D'\n",
            "<>:11: SyntaxWarning: invalid escape sequence '\\D'\n",
            "<>:12: SyntaxWarning: invalid escape sequence '\\D'\n",
            "C:\\Users\\tianz\\AppData\\Local\\Temp\\ipykernel_52236\\1686699409.py:10: SyntaxWarning: invalid escape sequence '\\D'\n",
            "  plt.title('Regions in the $(\\Delta_{13}u, \\Delta_{23}u)$ Plane')\n",
            "C:\\Users\\tianz\\AppData\\Local\\Temp\\ipykernel_52236\\1686699409.py:11: SyntaxWarning: invalid escape sequence '\\D'\n",
            "  plt.xlabel('$\\Delta_{13}u$')\n",
            "C:\\Users\\tianz\\AppData\\Local\\Temp\\ipykernel_52236\\1686699409.py:12: SyntaxWarning: invalid escape sequence '\\D'\n",
            "  plt.ylabel('$\\Delta_{23}u$')\n"
          ]
        },
        {
          "data": {
            "image/png": "[encoded data removed]",
            "text/plain": [
              "<Figure size 600x600 with 1 Axes>"
            ]
          },
          "metadata": {},
          "output_type": "display_data"
        }
      ],
      "source": [
        "# Compute the regions based on the conditions\n",
        "regions = np.zeros(delta13_u.shape, dtype=int)\n",
        "regions[(delta13_u >= -delta13_x_theta) & (delta23_u >= -delta23_x_theta)] = 1\n",
        "regions[(delta13_u <= -delta13_x_theta) & (delta13_u - delta23_u <= -(delta13_x_theta - delta23_x_theta))] = 2\n",
        "regions[(delta23_u <= -delta23_x_theta) & (delta13_u - delta23_u >= -(delta13_x_theta - delta23_x_theta))] = 3\n",
        "\n",
        "# Plot the regions\n",
        "plt.figure(figsize=(6, 6))\n",
        "plt.contourf(delta13_u, delta23_u, regions, levels=3, alpha=0.5, cmap='tab10')\n",
        "plt.title('Regions in the $(\\Delta_{13}u, \\Delta_{23}u)$ Plane')\n",
        "plt.xlabel('$\\Delta_{13}u$')\n",
        "plt.ylabel('$\\Delta_{23}u$')\n",
        "\n",
        "# Add labels to the regions\n",
        "region_labels = ['a: {1,2}', 'b: {2,3}', 'c:{1,3}']\n",
        "label_positions = [\n",
        "    (2, 2),    # Region 1\n",
        "    (-3, 2),  # Region 2\n",
        "    (0, -3)    # Region 3\n",
        "]\n",
        "\n",
        "for label, (x, y) in zip(region_labels, label_positions):\n",
        "    plt.text(x, y, label, fontsize=12, ha='center', va='center')\n",
        "\n",
        "plt.xlim(u_min, u_max)\n",
        "plt.ylim(v_min, v_max)\n",
        "plt.grid(False)\n",
        "plt.show()"
      ]
    },
    {
      "cell_type": "markdown",
      "metadata": {
        "id": "zI875HRnLKrF"
      },
      "source": [
        "Let's represent the model by a graph. We first load the idc library."
      ]
    },
    {
      "cell_type": "code",
      "execution_count": 5,
      "metadata": {
        "colab": {
          "base_uri": "https://localhost:8080/"
        },
        "id": "eedaEX_iLPQE",
        "outputId": "31dc77e8-392c-4a23-d7df-24d9ca2a5a81"
      },
      "outputs": [
        {
          "name": "stderr",
          "output_type": "stream",
          "text": [
            "fatal: destination path 'IncompleteDiscreteChoice' already exists and is not an empty directory.\n"
          ]
        }
      ],
      "source": [
        "!git clone https://github.com/hkaido0718/IncompleteDiscreteChoice.git"
      ]
    },
    {
      "cell_type": "markdown",
      "metadata": {
        "id": "yqSvzgCkLaYw"
      },
      "source": [
        "Here are the Y and U nodes and the links between them."
      ]
    },
    {
      "cell_type": "code",
      "execution_count": 6,
      "metadata": {
        "colab": {
          "base_uri": "https://localhost:8080/"
        },
        "id": "hapabGwj2Mtq",
        "outputId": "fd9c60de-da1b-417d-e077-ed7369e0f14b"
      },
      "outputs": [
        {
          "name": "stdout",
          "output_type": "stream",
          "text": [
            "Requirement already satisfied: scikit-optimize in d:\\program files (x86)\\python\\lib\\site-packages (0.10.2)\n",
            "Requirement already satisfied: joblib>=0.11 in d:\\program files (x86)\\python\\lib\\site-packages (from scikit-optimize) (1.5.2)\n",
            "Requirement already satisfied: pyaml>=16.9 in d:\\program files (x86)\\python\\lib\\site-packages (from scikit-optimize) (25.7.0)\n",
            "Requirement already satisfied: numpy>=1.20.3 in d:\\program files (x86)\\python\\lib\\site-packages (from scikit-optimize) (2.2.4)\n",
            "Requirement already satisfied: scipy>=1.1.0 in d:\\program files (x86)\\python\\lib\\site-packages (from scikit-optimize) (1.16.2)\n",
            "Requirement already satisfied: scikit-learn>=1.0.0 in d:\\program files (x86)\\python\\lib\\site-packages (from scikit-optimize) (1.7.2)\n",
            "Requirement already satisfied: packaging>=21.3 in d:\\program files (x86)\\python\\lib\\site-packages (from scikit-optimize) (25.0)\n",
            "Requirement already satisfied: PyYAML in d:\\program files (x86)\\python\\lib\\site-packages (from pyaml>=16.9->scikit-optimize) (6.0.2)\n",
            "Requirement already satisfied: threadpoolctl>=3.1.0 in d:\\program files (x86)\\python\\lib\\site-packages (from scikit-learn>=1.0.0->scikit-optimize) (3.6.0)\n"
          ]
        },
        {
          "name": "stderr",
          "output_type": "stream",
          "text": [
            "\n",
            "[notice] A new release of pip is available: 23.3.1 -> 25.2\n",
            "[notice] To update, run: python.exe -m pip install --upgrade pip\n"
          ]
        }
      ],
      "source": [
        "!pip install scikit-optimize"
      ]
    },
    {
      "cell_type": "code",
      "execution_count": null,
      "metadata": {
        "id": "rWvCTT1LLZLf"
      },
      "outputs": [],
      "source": [
        "import idclib_undi as idc\n",
        "\n",
        "# Define the Y-nodes, U-nodes, and edges\n",
        "Y_nodes = [1,2,3]\n",
        "U_nodes = ['a', 'b', 'c']\n",
        "edges = [('a',1),\n",
        "         ('a',2),\n",
        "         ('b',2),\n",
        "         ('b',3),\n",
        "         ('c',1),\n",
        "         ('c',3)]\n",
        "\n",
        "# Define the model\n",
        "gmodel = idc.BipartiteGraph(Y_nodes, U_nodes, edges)"
      ]
    },
    {
      "cell_type": "code",
      "execution_count": null,
      "metadata": {
        "colab": {
          "base_uri": "https://localhost:8080/",
          "height": 767
        },
        "id": "pgml7nZ9MPh9",
        "outputId": "0657d08c-2efa-481c-a1a2-bfc682265812"
      },
      "outputs": [],
      "source": [
        "gmodel.plot_graph(title='Graph for Discrete Choice with Heterogeneous Choice Sets')"
      ]
    },
    {
      "cell_type": "markdown",
      "metadata": {
        "id": "IvHqmwfBLQ0p"
      },
      "source": [
        "Now let's compute the sharp identifying restrictions.\n"
      ]
    },
    {
      "cell_type": "code",
      "execution_count": null,
      "metadata": {
        "colab": {
          "base_uri": "https://localhost:8080/"
        },
        "id": "Nxxs3vmvprWT",
        "outputId": "d8568cda-7c8b-4e21-8953-577eaccba3b5"
      },
      "outputs": [],
      "source": [
        "import numpy as np\n",
        "\n",
        "# Define probabilities for the U-nodes\n",
        "Ftheta = np.array([0.3, 0.5, 0.2])  # Example probabilities corresponding to U_nodes\n",
        "\n",
        "# Use the calculate_sharp_lower_bound to calculate probabilities.\n",
        "results,sharp_lower_bounds = gmodel.calculate_sharp_lower_bound(Ftheta)\n",
        "\n",
        "# Show results\n",
        "idc.print_table(results)"
      ]
    },
    {
      "cell_type": "markdown",
      "metadata": {
        "id": "TZNBwsEvR0HJ"
      },
      "source": [
        "# References\n",
        "- Barseghyan, L., Coughlin, M., Molinari, F. and Teitelbaum, J.C. (2021), Heterogeneous Choice Sets and Preferences. _Econometrica_, 89: 2015-2048. https://doi.org/10.3982/ECTA17448"
      ]
    }
  ],
  "metadata": {
    "colab": {
      "authorship_tag": "ABX9TyPFtMSoyfigKlixo7bxyvs7",
      "include_colab_link": true,
      "provenance": []
    },
    "kernelspec": {
      "display_name": "Python 3",
      "name": "python3"
    },
    "language_info": {
      "codemirror_mode": {
        "name": "ipython",
        "version": 3
      },
      "file_extension": ".py",
      "mimetype": "text/x-python",
      "name": "python",
      "nbconvert_exporter": "python",
      "pygments_lexer": "ipython3",
      "version": "3.12.0"
    }
  },
  "nbformat": 4,
  "nbformat_minor": 0
}
