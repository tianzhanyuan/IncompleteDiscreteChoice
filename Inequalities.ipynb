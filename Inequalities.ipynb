{
  "cells": [
    {
      "cell_type": "markdown",
      "metadata": {
        "colab_type": "text",
        "id": "view-in-github"
      },
      "source": [
        "<a href=\"https://colab.research.google.com/github/hkaido0718/IncompleteDiscreteChoice/blob/main/Inequalities.ipynb\" target=\"_parent\"><img src=\"https://colab.research.google.com/assets/colab-badge.svg\" alt=\"Open In Colab\"/></a>"
      ]
    },
    {
      "cell_type": "markdown",
      "metadata": {
        "id": "zgFSydiXSSxP"
      },
      "source": [
        "# Graph $\\to$ Identifying Restrictions\n",
        "\n",
        "We now have a graph representation of the model. We are ready to derive workable _identifying restrictions_.\n",
        "\n",
        "First, we need some preparation.\n",
        "\n",
        "\n",
        "1.   List all $U$-nodes. (e.g., {a,b,c,d,e})\n",
        "2.   Compute the probability distribution over them (e.g., $F_\\theta(a)=0.1,F_\\theta(b)=0.2,\\dots$ )\n",
        "\n",
        "\n",
        "Once that's done, we can compute a lower bound for the conditional probability of any event. Let $A$ be a set of $Y$-nodes. For example, $A=\\{(1,0)\\}$ in the entry game.\n",
        "\n",
        "3. Find the $U$-nodes that direct links only to $A$ and no other $Y$-nodes. We call them _exclusive $U$-nodes_ (associated with $A$).\n",
        "4. Sum up the probabilities allocated to such $U$-nodes.\n",
        "\n",
        "The probability calculated in 4. is then the _sharp lower bound_ for $p(A|x)$. This is because whenever $U$ falls into\n",
        "\n",
        "\n",
        "##Remark\n",
        "We can modify Step 3 to obtain a sharp upper bound as well. To obtain an upper bound, find the $U$-nodes that has some flow into $A$. Summing up the probability masses allocated to such nodes gives the sharp upper bound. It turns out that getting the lower bound is enough.)"
      ]
    },
    {
      "cell_type": "markdown",
      "metadata": {
        "id": "iVdQxJxxTzWe"
      },
      "source": [
        "# Example: Entry game\n",
        "\n",
        "For the first two steps,\n",
        "\n",
        "1. The $U$-nodes are the five green nodes ({a,b,c,d,e});\n",
        "2. Let's suppose the probability allocation is  $(F_\\theta(a),F_\\theta(b),F_\\theta(c),F_\\theta(d),F_\\theta(e))=(0.1, 0.2, 0.3, 0.15, 0.25)$.\n",
        "\n",
        "Consider $A=\\{(1,0)\\}$. The graph can be plotted again by executing the codes below. The event of interest is indicated by a red dotted circle."
      ]
    },
    {
      "cell_type": "code",
      "execution_count": 1,
      "metadata": {
        "colab": {
          "base_uri": "https://localhost:8080/",
          "height": 539
        },
        "id": "UUukU5aeXJSr",
        "outputId": "d526c5e7-ea08-4dde-8098-e50379279a4b"
      },
      "outputs": [
        {
          "data": {
            "image/png": "[encoded data removed]",
            "text/plain": [
              "<Figure size 640x480 with 1 Axes>"
            ]
          },
          "metadata": {},
          "output_type": "display_data"
        }
      ],
      "source": [
        "import matplotlib.pyplot as plt\n",
        "import networkx as nx\n",
        "\n",
        "# Define the Y-nodes without LaTeX formatting\n",
        "Y_nodes = [(0, 0), (0, 1), (1, 0), (1, 1)]\n",
        "\n",
        "# Define the U-nodes without LaTeX formatting\n",
        "U_nodes = ['a', 'b', 'c', 'd', 'e']\n",
        "\n",
        "# Create a bipartite graph\n",
        "B = nx.Graph()\n",
        "\n",
        "# Add Y-nodes and U-nodes to the graph with the node attribute \"bipartite\"\n",
        "B.add_nodes_from(Y_nodes, bipartite=0)  # Add nodes for set Y\n",
        "B.add_nodes_from(U_nodes, bipartite=1)  # Add nodes for set U\n",
        "\n",
        "# Add edges between nodes\n",
        "edges = [\n",
        "    ('a', (0, 0)),\n",
        "    ('b', (0, 1)),\n",
        "    ('c', (1, 0)),\n",
        "    ('d', (1, 1)),\n",
        "    ('e', (0, 1)),\n",
        "    ('e', (1, 0))\n",
        "]\n",
        "B.add_edges_from(edges)\n",
        "\n",
        "# Define positions for the nodes in a bipartite layout\n",
        "pos = {\n",
        "    (0, 0): (-1.5, 1), (0, 1): (-0.5, 1), (1, 0): (0.5, 1), (1, 1): (1.5, 1),\n",
        "    'a': (-1.5, -1), 'b': (-0.5, -1),\n",
        "    'c': (0.5, -1), 'd': (1.5, -1),\n",
        "    'e': (0, -1)\n",
        "}\n",
        "\n",
        "# Draw the graph\n",
        "nx.draw(B, pos, with_labels=True, labels={node: node for node in B.nodes()},\n",
        "        node_color=['lightblue'] * 4 + ['lightgreen'] * 5, node_size=2000, font_size=12, font_color='black', edge_color='gray', arrows=True)\n",
        "\n",
        "# Add a red dotted circle around the node (1, 0)\n",
        "circle = plt.Circle(pos[(1, 0)], radius=0.3, color='red', fill=False, linestyle='dotted', linewidth=2)\n",
        "plt.gca().add_patch(circle)\n",
        "\n",
        "# Show the plot\n",
        "plt.title('Entry Game')\n",
        "plt.axis('equal')  # Ensure the aspect ratio is equal\n",
        "plt.show()\n"
      ]
    },
    {
      "cell_type": "markdown",
      "metadata": {
        "id": "Zpry07TXxB3h"
      },
      "source": [
        "\n",
        "3. The only $U$-node that directs a link to $(1,0)$ is $c$. (Note: $e$ directs a link to $(1,0)$, but it also directs a link to $(0,1)$. Hence, we do not include it in the nodes we consider.)\n",
        "4. We compute $F_\\theta(c)=0.3$, and this is the sharp lower bound for $p((1,0)|x)$. That is,\n",
        "\n",
        "$$p((1,0)|x)\\ge F_\\theta(c)=0.3.$$"
      ]
    },
    {
      "cell_type": "markdown",
      "metadata": {
        "id": "h5BGJonVUcXD"
      },
      "source": [
        "Now, let's consider $B=\\{(0,0)\\}$ and $C=\\{(0,1),(1,0),(1,1)\\}$. The graph is below."
      ]
    },
    {
      "cell_type": "code",
      "execution_count": 2,
      "metadata": {
        "colab": {
          "base_uri": "https://localhost:8080/",
          "height": 539
        },
        "id": "p0yJaRrUZSCp",
        "outputId": "0dcff24d-da1b-4e3c-a237-058616f2a486"
      },
      "outputs": [
        {
          "data": {
            "image/png": "[encoded data removed]",
            "text/plain": [
              "<Figure size 640x480 with 1 Axes>"
            ]
          },
          "metadata": {},
          "output_type": "display_data"
        }
      ],
      "source": [
        "from matplotlib.patches import FancyBboxPatch\n",
        "\n",
        "# Draw the graph\n",
        "nx.draw(B, pos, with_labels=True, labels={node: node for node in B.nodes()},\n",
        "        node_color=['lightblue'] * 4 + ['lightgreen'] * 5, node_size=2000, font_size=12, font_color='black', edge_color='gray', arrows=True)\n",
        "\n",
        "# Add a red dotted rectangle with rounded corners around the specified nodes\n",
        "rect_x = -0.75  # X-coordinate of the lower left corner of the rectangle\n",
        "rect_y = 0.75    # Y-coordinate of the lower left corner of the rectangle\n",
        "rect_width = 2.5  # Width of the rectangle\n",
        "rect_height = 0.5 # Height of the rectangle\n",
        "\n",
        "# Add a red dotted circle around the node (0,0)\n",
        "circle = plt.Circle(pos[(0,0)], radius=0.3, color='red', fill=False, linestyle='dotted', linewidth=2)\n",
        "plt.gca().add_patch(circle)\n",
        "\n",
        "# Create the FancyBboxPatch object\n",
        "rounded_rect = FancyBboxPatch((rect_x, rect_y), rect_width, rect_height, boxstyle=\"round,pad=0.1\",\n",
        "                              edgecolor='red', facecolor='none', linestyle='dotted', linewidth=2)\n",
        "\n",
        "# Add the rectangle to the plot\n",
        "plt.gca().add_patch(rounded_rect)\n",
        "\n",
        "# Save the plot\n",
        "plt.title('Entry Game')\n",
        "plt.axis('equal')  # Ensure the aspect ratio is equal\n",
        "plt.show()"
      ]
    },
    {
      "cell_type": "markdown",
      "metadata": {
        "id": "zUmT4eUFxQjW"
      },
      "source": [
        "3. For $B$, the only $U$-node directs a link to $\\{(0,0)\\}$ is $a$. For $C$, the $U$-nodes that directs links to $C$ are $b,c,d,e$.\n",
        "4. By the previous step, we obtain\n",
        "\\begin{align}\n",
        "p((0,0)|x)&\\ge F_\\theta(a)=0.1\\\\\n",
        "p(C|x)&\\ge F_\\theta(b)+F_\\theta(c)+F_\\theta(d)+F_\\theta(e)=0.9.\n",
        "\\end{align}\n",
        "\n",
        "Note that $B=\\{(0,0)\\}=\\bar C$ (the complement of $C$). Therefore, the last inequality can also be written as $p((0,0)|x)\\le 1-p(C|x)\\le 1-0.9=0.1$. Combining the two inequalities, we obtain an equality restriction\n",
        "$$p((0,0)|x)=0.1.$$\n",
        "\n",
        "Observe that there is a unique flow from $a$ to $(0,0)$. In such a case, we obtain an equality restriction."
      ]
    },
    {
      "cell_type": "markdown",
      "metadata": {
        "id": "iy1QLJNwn20w"
      },
      "source": [
        "# Finding the exclusive $U$-nodes in general\n",
        "\n",
        "As shown above, for each event $A\\subset \\mathcal Y$, we want to find the $U$-nodes that are only directed to $A$. The following function does this.\n",
        "The `BipartiteGraph` class in the `idc` library has an instance method that computes the exclusive $U$-nodes."
      ]
    },
    {
      "cell_type": "code",
      "execution_count": 3,
      "metadata": {
        "colab": {
          "base_uri": "https://localhost:8080/"
        },
        "id": "MR5-1JLz099s",
        "outputId": "7b4afb46-281a-491d-f6f3-a383f8d40737"
      },
      "outputs": [
        {
          "name": "stderr",
          "output_type": "stream",
          "text": [
            "fatal: destination path 'IncompleteDiscreteChoice' already exists and is not an empty directory.\n"
          ]
        }
      ],
      "source": [
        "!git clone https://github.com/hkaido0718/IncompleteDiscreteChoice.git"
      ]
    },
    {
      "cell_type": "code",
      "execution_count": 4,
      "metadata": {
        "colab": {
          "base_uri": "https://localhost:8080/"
        },
        "id": "F6B-gQvWoO-M",
        "outputId": "aadb9d4e-a1b4-473d-bb16-385ff5198d17"
      },
      "outputs": [
        {
          "name": "stdout",
          "output_type": "stream",
          "text": [
            "{'c', 'b', 'e'}\n"
          ]
        }
      ],
      "source": [
        "import idclib_undi as idc\n",
        "gentrymodel = idc.BipartiteGraph(Y_nodes,U_nodes,edges)\n",
        "\n",
        "# Example usage\n",
        "A = {(1,0),(0,1)}\n",
        "exclusive_u_nodes = gentrymodel.get_exclusive_u_nodes(A)\n",
        "print(exclusive_u_nodes)\n"
      ]
    },
    {
      "cell_type": "markdown",
      "metadata": {
        "id": "D1fka48OpbO0"
      },
      "source": [
        "# Obtaining the sharp identifying restrictions\n",
        "\n",
        "To obtain the sharp identifying restrictions, we must take the following steps.\n",
        "\n",
        "1. For each event $A\\subseteq \\mathcal Y$, find the exclusive $U$-nodes (source nodes) that direct links to $A$;\n",
        "2. Sum up the probabilities allocated to the source nodes;\n",
        "3. Use the sum as a lower bound for $p(A|x)$;\n",
        "4. Repeat Steps 1-3 for all events.\n",
        "\n",
        "Here is a code for Steps 1-3."
      ]
    },
    {
      "cell_type": "code",
      "execution_count": 5,
      "metadata": {
        "colab": {
          "base_uri": "https://localhost:8080/"
        },
        "id": "6_so3SwlrGLe",
        "outputId": "4436e2dc-9d7f-4e9f-9c62-62f15d623649"
      },
      "outputs": [
        {
          "name": "stdout",
          "output_type": "stream",
          "text": [
            "0.75\n"
          ]
        }
      ],
      "source": [
        "import numpy as np\n",
        "# Define probabilities for the U-nodes\n",
        "Ftheta = np.array([0.1, 0.2, 0.3, 0.15, 0.25])  # Example probabilities corresponding to U_nodes\n",
        "\n",
        "# Example usage\n",
        "total_prob = gentrymodel.sum_probabilities(exclusive_u_nodes,Ftheta)\n",
        "print(total_prob)\n"
      ]
    },
    {
      "cell_type": "markdown",
      "metadata": {
        "id": "Syh5XUE9sCwr"
      },
      "source": [
        "The instance method `calculate_sharp_lower_bound` does Step 4."
      ]
    },
    {
      "cell_type": "code",
      "execution_count": 6,
      "metadata": {
        "colab": {
          "base_uri": "https://localhost:8080/"
        },
        "id": "Y-ws4yvPsEmP",
        "outputId": "73a6dad6-642f-4db8-a424-fcfa82f13aa7"
      },
      "outputs": [
        {
          "name": "stdout",
          "output_type": "stream",
          "text": [
            "Subset of Y-nodes                    Exclusive U-nodes             Sharp Lower Bound  \n",
            "======================================================================================\n",
            "{(0, 0)}                             {'a'}                         0.100              \n",
            "{(0, 1)}                             {'b'}                         0.200              \n",
            "{(1, 0)}                             {'c'}                         0.300              \n",
            "{(1, 1)}                             {'d'}                         0.150              \n",
            "{(0, 1), (0, 0)}                     {'a', 'b'}                    0.300              \n",
            "{(1, 0), (0, 0)}                     {'c', 'a'}                    0.400              \n",
            "{(1, 1), (0, 0)}                     {'d', 'a'}                    0.250              \n",
            "{(0, 1), (1, 0)}                     {'c', 'b', 'e'}               0.750              \n",
            "{(0, 1), (1, 1)}                     {'d', 'b'}                    0.350              \n",
            "{(1, 0), (1, 1)}                     {'c', 'd'}                    0.450              \n",
            "{(0, 1), (1, 0), (0, 0)}             {'c', 'a', 'b', 'e'}          0.850              \n",
            "{(0, 1), (1, 1), (0, 0)}             {'d', 'a', 'b'}               0.450              \n",
            "{(1, 0), (1, 1), (0, 0)}             {'c', 'd', 'a'}               0.550              \n",
            "{(0, 1), (1, 0), (1, 1)}             {'c', 'd', 'b', 'e'}          0.900              \n",
            "{(0, 1), (1, 0), (1, 1), (0, 0)}     {'e', 'c', 'd', 'a', 'b'}     1.000              \n"
          ]
        }
      ],
      "source": [
        "results, sharp_lower_bounds = gentrymodel.calculate_sharp_lower_bound(Ftheta)\n",
        "\n",
        "# print results\n",
        "idc.print_table(results)"
      ]
    },
    {
      "cell_type": "markdown",
      "metadata": {
        "id": "k_4qPVlzxm1k"
      },
      "source": [
        "# Remark:\n",
        "From this list, we can obtain the sharp identifying restrictions as follows.\n",
        "\\begin{align}\n",
        "P((0,0)|x)&\\ge 0.1\\\\\n",
        "\\vdots\\\\\n",
        "P((1,0),(0,1),(1,1)|x)&\\ge 0.9\\\\\n",
        "P((0,0),(1,0),(0,1),(1,1)|x)&\\ge 1.\n",
        "\\end{align}\n",
        "\n",
        "In practice, the right-hand side depends on $F_\\theta$. We can check if the chosen value of $\\theta$ is compatible with $P$ by checking the system of inequalities. We will discuss this in the next note.\n",
        "\n",
        "We got 16 inequalities (if we include $P(\\emptyset)\\ge 0$), but many of them are actually redundant. It is possible to reduce them to a smaller class called the _minimal core determining class_. Working with this class is particularly appealing in large-scale models (e.g., a game with many players). We plan to discuss this in a separate note."
      ]
    },
    {
      "cell_type": "markdown",
      "metadata": {
        "id": "PLhtYPgs2O2A"
      },
      "source": [
        "# References:\n",
        "\n",
        "- Alfred Galichon, Marc Henry, \"Set Identification in Models with Multiple Equilibria\", _The Review of Economic Studies_, Volume 78, Issue 4, October 2011, Pages 1264–1298, https://doi.org/10.1093/restud/rdr008\n",
        "- Luo, Ye, and Hai Wang. 2017. \"Core Determining Class and Inequality Selection.\" _American Economic Review_, 107 (5): 274–77.\n",
        "DOI: 10.1257/aer.p20171041\n",
        "- Kirill Ponomarev (2024) \"Selecting Inequalities for Sharp Identification in\n",
        "Models with Set-Valued Predictions\" U. Chicago, [paper](http://kponomarev.github.io/files_on_website/sharp%20inequalities.pdf)."
      ]
    }
  ],
  "metadata": {
    "colab": {
      "authorship_tag": "ABX9TyO+MI9MoWxmqQRjEbniWqnB",
      "include_colab_link": true,
      "provenance": []
    },
    "kernelspec": {
      "display_name": "Python 3",
      "name": "python3"
    },
    "language_info": {
      "codemirror_mode": {
        "name": "ipython",
        "version": 3
      },
      "file_extension": ".py",
      "mimetype": "text/x-python",
      "name": "python",
      "nbconvert_exporter": "python",
      "pygments_lexer": "ipython3",
      "version": "3.12.0"
    }
  },
  "nbformat": 4,
  "nbformat_minor": 0
}
