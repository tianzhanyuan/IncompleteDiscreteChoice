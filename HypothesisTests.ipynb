{
  "cells": [
    {
      "cell_type": "markdown",
      "metadata": {
        "colab_type": "text",
        "id": "view-in-github"
      },
      "source": [
        "<a href=\"https://colab.research.google.com/github/hkaido0718/IncompleteDiscreteChoice/blob/main/HypothesisTests.ipynb\" target=\"_parent\"><img src=\"https://colab.research.google.com/assets/colab-badge.svg\" alt=\"Open In Colab\"/></a>"
      ]
    },
    {
      "cell_type": "markdown",
      "metadata": {
        "id": "mWllyG9RmWmR"
      },
      "source": [
        "# Hypothesis testing\n",
        "\n",
        "The goal of this note is to test hypotheses\n",
        "\\begin{align}\n",
        "H_0:\\theta\\in\\Theta_0 ~~\\text{v.s.}~~H_1:\\theta\\in\\Theta_1.\n",
        "\\end{align}\n",
        "\n",
        "Null hypothesis can be described by linear or nolinear constraints.\n",
        "\n",
        "- Some of the coefficients are 0 (e.g. $\\Theta_0=\\{\\theta:\\theta_j=0,j\\in\\mathcal J_0\\}$)\n",
        "- Shape restrictions: (e.g. a function of interest is $f(x;\\theta)=\\theta_1+\\theta_2 x+\\theta_3x^2$, and $\\Theta_0=\\{\\theta:\\theta_3\\le 0\\}$)\n",
        "- The value of a counterfactual outcome (e.g. $\\Theta_0=\\{\\theta:g(\\theta)=c\\}$)\n",
        "\n",
        "Later, we will discuss constructing confidence intervals by inverting the test. The `idc` library's default command `idc.calculate_LR` uses scipy's optimization library to implement the test. However, you can also use your favoriate library by calling the functions in `idc.calculate_LR`."
      ]
    },
    {
      "cell_type": "markdown",
      "metadata": {
        "id": "GcxaBIwbtDqB"
      },
      "source": [
        "# Representing your hypothesis as a constraint object.\n",
        "\n",
        "Consider testing\n",
        "$$H_0:A\\theta=b,~~H_1:A\\theta\\ne b.$$\n",
        "\n",
        "For example, $\\theta=(\\theta_1,\\dots,\\theta_5)$, and we want to test $H_0:\\theta_1=0,\\theta_2=0$. We can represent this linear constraint by letting\n",
        "\n",
        "$$A=\\begin{bmatrix}\n",
        "1&0&0&0&0\\\\\n",
        "0&1&0&0&0\n",
        "\\end{bmatrix}\n",
        ",~~b=\\begin{bmatrix}\n",
        "0\\\\0 \\end{bmatrix}.$$\n",
        "We can use `LinearConstaint` object in `scipy.optimization` to represent this constraint. See further details [here](https://docs.scipy.org/doc/scipy/reference/generated/scipy.optimize.LinearConstraint.html)."
      ]
    },
    {
      "cell_type": "code",
      "execution_count": 1,
      "metadata": {
        "id": "JfNrrDiLthiT"
      },
      "outputs": [],
      "source": [
        "import numpy as np\n",
        "from scipy.optimize import differential_evolution, LinearConstraint\n",
        "\n",
        "# Define the linear constraint Aθ = b\n",
        "A = np.array([[1, 0, 0, 0, 0],\n",
        "              [0, 1, 0, 0, 0]])  # Example constraint matrix\n",
        "b = np.array([0, 0])  # Example constraint vector\n",
        "\n",
        "# Linear constraint\n",
        "linear_constraint = LinearConstraint(A, b, b)  # Aθ = b"
      ]
    },
    {
      "cell_type": "markdown",
      "metadata": {
        "id": "DaZ_Nbfn9ele"
      },
      "source": [
        "Similarly, one can also test one-sided hypotheses. For example\n",
        "$$H_0:A\\theta\\ge b,~~H_1:A\\theta< b.$$\n",
        "This constraint is represented by\n",
        "\n"
      ]
    },
    {
      "cell_type": "code",
      "execution_count": 2,
      "metadata": {
        "id": "-bDhqOR7991U"
      },
      "outputs": [],
      "source": [
        "# Linear constraint\n",
        "linear_onesided_constraint = LinearConstraint(A, b, np.inf)  # Aθ >= b"
      ]
    },
    {
      "cell_type": "markdown",
      "metadata": {
        "id": "N2337TEh-VcR"
      },
      "source": [
        "Next, consider testing\n",
        "$$H_0: \\varphi(\\theta)=c,~~H_1:\\varphi(\\theta)\\ne c.$$\n",
        "This type of test is useful for constructing confidence intervals for a functio $\\varphi(\\theta)$ of $\\theta$. For example, in the entry game, consider the counterfactual entry probability of Player 1 (with characteristics $x_1$) when the Player  is in the market ($y_2=1$). For simplicity, suppose $U_1\\sim N(0,1)$. Then,\n",
        "\n",
        "$$\\varphi(\\theta)=F_\\theta(\\{u:x_{1}{}{'}\\beta_1+\\Delta_1\\ge-U_1 \\})=\\Phi(x_{1}{}{'}\\beta_1+\\Delta_1).$$\n",
        "\n",
        "The corresponding `NonlinearConstraint` object can be defined as follows. See details [here](https://docs.scipy.org/doc/scipy/reference/generated/scipy.optimize.NonlinearConstraint.html)."
      ]
    },
    {
      "cell_type": "code",
      "execution_count": 3,
      "metadata": {
        "id": "EtZS2cHTAuHX"
      },
      "outputs": [],
      "source": [
        "from scipy.optimize import NonlinearConstraint\n",
        "from scipy.stats import norm\n",
        "\n",
        "# Define varphi\n",
        "def constraint_function(theta):\n",
        "    beta1 = theta[0]  # Extract beta1 from theta\n",
        "    Delta1 = theta[2] # Extract Delta1 from theta\n",
        "    x1 = 1 # Set x1 to a value of interest\n",
        "    return norm.cdf(np.dot(x1, beta1) + Delta1)\n",
        "\n",
        "# Define the target value for the constraint\n",
        "c = 0.5  # Example target value\n",
        "\n",
        "# Create the NonlinearConstraint object\n",
        "nonlinear_constraint = NonlinearConstraint(constraint_function, c, c)  # varphi(theta) = c"
      ]
    },
    {
      "cell_type": "markdown",
      "metadata": {
        "id": "CGmtTi8iv2vc"
      },
      "source": [
        "# Split LR-test\n",
        "\n",
        "To proceed, we use the test by Kaido & Zhang (2024), which takes the following steps.\n",
        "\n",
        "1.   Split a sample into two subsamples. Let's call them $D_0$ and $D_1$.\n",
        "2.   Estimate $\\theta$ using $D_1$. Calculate a \"unrestricted likelihood\" $L_0(\\hat\\theta_1)$ using $D_0$.\n",
        "3.   Calculate the restricted likelihood $L_0(\\hat{\\theta}_0)=\\sup_{\\theta\\in\\Theta_0}L_0(\\theta)$ using $D_0$.\n",
        "4. Compute the ratio $T_n=L_0(\\hat\\theta_1)/L_0(\\hat{\\theta}_0)$.\n",
        "\n",
        "The recommended version of this test repeats Steps 1-4 while swapping the role of $D_0$ and $D_1$ and calculates $T_n^{swap}$ and aggregates the statisticss to the _Cross-fit LR statistic_ $S_n=\\frac{T_n+T_n^{swap}}{2}$. The rejection rule is simple.\n",
        "\n",
        "- Reject $H_0$ if $S_n>1/\\alpha$.\n",
        "- Do not reject $H_0$ if $S_n\\le 1/\\alpha$.\n",
        "\n",
        "This test is valid in any finite samples. Below, we outline how to do this.\n"
      ]
    },
    {
      "cell_type": "markdown",
      "metadata": {
        "id": "zwFgqq9zDz_i"
      },
      "source": [
        "# Loading idc library and downloading data"
      ]
    },
    {
      "cell_type": "code",
      "execution_count": 4,
      "metadata": {
        "colab": {
          "base_uri": "https://localhost:8080/"
        },
        "id": "wv_hdjoUvzAk",
        "outputId": "a12693a2-fcb7-4952-d2d7-378114bacaf1"
      },
      "outputs": [
        {
          "name": "stderr",
          "output_type": "stream",
          "text": [
            "fatal: destination path 'IncompleteDiscreteChoice' already exists and is not an empty directory.\n"
          ]
        }
      ],
      "source": [
        "!git clone https://github.com/hkaido0718/IncompleteDiscreteChoice.git"
      ]
    },
    {
      "cell_type": "markdown",
      "metadata": {
        "id": "Op0PKrD4zGWe"
      },
      "source": [
        "Let's download simulated data of entry games. The data involve binary player-specific covariates. The true parameter value is $\\beta_1 = 0.75, \\beta_2 = 0.25,\n",
        "\\delta_1 = -0.5,\n",
        "\\delta_2 = -0.5.$\n",
        "This DGP satisfies the linear inequality hypothesis (but not the other two)."
      ]
    },
    {
      "cell_type": "code",
      "execution_count": 5,
      "metadata": {
        "id": "dRmt0knk1DWV"
      },
      "outputs": [],
      "source": [
        "import idclib_undi as idc\n",
        "import examples as ex\n",
        "import numpy as np\n",
        "import gdown\n",
        "\n",
        "# Download entrygame sample data (same data as above)\n",
        "url = \"https://drive.google.com/uc?id=1cRhMJ8bRhdzy9_agmQ_LkqzlsKRKcthX\"\n",
        "output = \"data_entrygame.npz\"\n",
        "gdown.download(url, output, quiet=True)\n",
        "Data = np.load(output, allow_pickle=True)\n",
        "Y_full = Data['Y']\n",
        "X_full = Data['X']\n",
        "data = [Y_full, X_full]\n",
        "\n",
        "# Define the model\n",
        "Y_nodes = [(0,0), (0,1), (1,0), (1,1)]\n",
        "U_nodes = ['a', 'b', 'c', 'd', 'e']\n",
        "edges = [\n",
        "    ('a', (0,0)),\n",
        "    ('b', (0,1)),\n",
        "    ('c', (1,0)),\n",
        "    ('d', (1,1)),\n",
        "    ('e', (0,1)),\n",
        "    ('e', (1,0))\n",
        "]\n",
        "gmodel = idc.BipartiteGraph(Y_nodes, U_nodes, edges)\n"
      ]
    },
    {
      "cell_type": "markdown",
      "metadata": {
        "id": "7WYSHHa3DzvP"
      },
      "source": [
        "Now, let's conduct a test. Below, we set the parameter space and call `idc.calculateLR` function, which computes the LR statistic above for a given hypothesis. To conduct the test, we should pass the following objects to the function.\n",
        "- `data` (list): List containing Y and X arrays\n",
        "- `gmodel` BipartiteGraph): Model (stored as a graph)\n",
        "- `calculate_Ftheta` (function): Function to calculate $F_\\theta$\n",
        "- `LB` (list): Lower bounds for θ\n",
        "- `UB` (list): Upper bounds for θ\n",
        "- `linear_constraint` (LinearConstraint, optional): Linear constraint\n",
        "- `nonlinear_constraint` (NonlinearConstraint, optional): Nonlinear constraint\n",
        "- `seed` (int, optional): Seed for the random number generator (default is 123)\n",
        "- `split` (str, optional): If \"swap\", swap the roles of data0 and data1; if \"crossfit\", calculate $T$ and $T^{swap}$ and return their average.\n",
        "\n"
      ]
    },
    {
      "cell_type": "markdown",
      "metadata": {
        "id": "CpR33lv6iBEx"
      },
      "source": [
        "# Testing linear hypotheses.\n",
        "\n",
        "Let's apply this to the linear (equality) hypothesis."
      ]
    },
    {
      "cell_type": "code",
      "execution_count": 6,
      "metadata": {
        "colab": {
          "base_uri": "https://localhost:8080/"
        },
        "collapsed": true,
        "id": "U_vXmpZdECGF",
        "outputId": "96989b7c-a93e-4dc1-aa75-189355804ccb"
      },
      "outputs": [
        {
          "ename": "UnboundLocalError",
          "evalue": "cannot access local variable 'result' where it is not associated with a value",
          "output_type": "error",
          "traceback": [
            "\u001b[31m---------------------------------------------------------------------------\u001b[39m",
            "\u001b[31mUnboundLocalError\u001b[39m                         Traceback (most recent call last)",
            "\u001b[36mCell\u001b[39m\u001b[36m \u001b[39m\u001b[32mIn[6]\u001b[39m\u001b[32m, line 6\u001b[39m\n\u001b[32m      3\u001b[39m UB = [\u001b[32m2\u001b[39m, \u001b[32m2\u001b[39m, \u001b[32m0\u001b[39m, \u001b[32m0\u001b[39m, \u001b[32m0.85\u001b[39m]  \u001b[38;5;66;03m# parameter space upper bound\u001b[39;00m\n\u001b[32m      5\u001b[39m \u001b[38;5;66;03m# Calculate LR\u001b[39;00m\n\u001b[32m----> \u001b[39m\u001b[32m6\u001b[39m S_eq = \u001b[43midc\u001b[49m\u001b[43m.\u001b[49m\u001b[43mcalculate_LR\u001b[49m\u001b[43m(\u001b[49m\u001b[43mdata\u001b[49m\u001b[43m,\u001b[49m\u001b[43m \u001b[49m\u001b[43mgmodel\u001b[49m\u001b[43m,\u001b[49m\u001b[43m \u001b[49m\u001b[43mex\u001b[49m\u001b[43m.\u001b[49m\u001b[43mcalculate_Ftheta_entrygame\u001b[49m\u001b[43m,\u001b[49m\u001b[43m \u001b[49m\u001b[43mLB\u001b[49m\u001b[43m,\u001b[49m\u001b[43m \u001b[49m\u001b[43mUB\u001b[49m\u001b[43m,\u001b[49m\u001b[43m \u001b[49m\u001b[43mlinear_constraint\u001b[49m\u001b[43m,\u001b[49m\u001b[43m \u001b[49m\u001b[43mseed\u001b[49m\u001b[43m=\u001b[49m\u001b[32;43m123\u001b[39;49m\u001b[43m,\u001b[49m\u001b[43m \u001b[49m\u001b[43msplit\u001b[49m\u001b[43m=\u001b[49m\u001b[33;43m\"\u001b[39;49m\u001b[33;43mcrossfit\u001b[39;49m\u001b[33;43m\"\u001b[39;49m\u001b[43m)\u001b[49m\n",
            "\u001b[36mFile \u001b[39m\u001b[32md:\\RA\\2025fall\\IncompleteDiscreteChoice\\idclib_undi.py:689\u001b[39m, in \u001b[36mcalculate_LR\u001b[39m\u001b[34m(data, gmodel, calculate_Ftheta, LB, UB, method_Qhat, method_L0, linear_constraint, nonlinear_constraint, seed, split, max_retries, calculate_p0_func, thetahat1, qtheta_function, tol)\u001b[39m\n\u001b[32m    686\u001b[39m     \u001b[38;5;28;01mreturn\u001b[39;00m T_swap\n\u001b[32m    688\u001b[39m \u001b[38;5;28;01melif\u001b[39;00m split == \u001b[33m\"\u001b[39m\u001b[33mcrossfit\u001b[39m\u001b[33m\"\u001b[39m:\n\u001b[32m--> \u001b[39m\u001b[32m689\u001b[39m     T = \u001b[43mcalculate_single_T\u001b[49m\u001b[43m(\u001b[49m\u001b[43mdata0\u001b[49m\u001b[43m,\u001b[49m\u001b[43m \u001b[49m\u001b[43mdata1\u001b[49m\u001b[43m,\u001b[49m\u001b[43m \u001b[49m\u001b[33;43m\"\u001b[39;49m\u001b[33;43m\"\u001b[39;49m\u001b[43m)\u001b[49m\n\u001b[32m    690\u001b[39m     T_swap = calculate_single_T(data1, data0, \u001b[33m\"\u001b[39m\u001b[33m^swap\u001b[39m\u001b[33m\"\u001b[39m)\n\u001b[32m    691\u001b[39m     T_crossfit = (T + T_swap) / \u001b[32m2\u001b[39m\n",
            "\u001b[36mFile \u001b[39m\u001b[32md:\\RA\\2025fall\\IncompleteDiscreteChoice\\idclib_undi.py:648\u001b[39m, in \u001b[36mcalculate_LR.<locals>.calculate_single_T\u001b[39m\u001b[34m(data0, data1, label)\u001b[39m\n\u001b[32m    644\u001b[39m         \u001b[38;5;28;01mreturn\u001b[39;00m objective_function_Qhat(theta_values)\n\u001b[32m    646\u001b[39m     result = gp_minimize(bayesian_objective_function_Qhat, space, random_state=seed)\n\u001b[32m--> \u001b[39m\u001b[32m648\u001b[39m thetahat1_used = \u001b[43mresult\u001b[49m.x\n\u001b[32m    649\u001b[39m min_Qhat = result.fun\n\u001b[32m    650\u001b[39m \u001b[38;5;28mprint\u001b[39m(\u001b[33mf\u001b[39m\u001b[33m\"\u001b[39m\u001b[33mInitial Estimator\u001b[39m\u001b[38;5;132;01m{\u001b[39;00mlabel\u001b[38;5;132;01m}\u001b[39;00m\u001b[33m:\u001b[39m\u001b[33m\"\u001b[39m, thetahat1_used)\n",
            "\u001b[31mUnboundLocalError\u001b[39m: cannot access local variable 'result' where it is not associated with a value"
          ]
        }
      ],
      "source": [
        "# Define parameter space\n",
        "LB = [-2, -2, -2, -2, 0] # parameter space lower bound\n",
        "UB = [2, 2, 0, 0, 0.85]  # parameter space upper bound\n",
        "\n",
        "# Calculate LR\n",
        "S_eq = idc.calculate_LR(data, gmodel, ex.calculate_Ftheta_entrygame, LB, UB, linear_constraint, seed=123, split=\"crossfit\")"
      ]
    },
    {
      "cell_type": "markdown",
      "metadata": {
        "id": "xPyPKFWky2Zo"
      },
      "source": [
        "We reject the null hypothesis if $S>1/\\alpha$."
      ]
    },
    {
      "cell_type": "markdown",
      "metadata": {
        "id": "AzJ5loaU_652"
      },
      "source": [
        "Similarly, we can test the linear inequality constraint."
      ]
    },
    {
      "cell_type": "code",
      "execution_count": null,
      "metadata": {
        "colab": {
          "base_uri": "https://localhost:8080/"
        },
        "collapsed": true,
        "id": "YOfIZr2Z_-HW",
        "outputId": "033c0443-26da-4986-e770-d8f81b3938ba"
      },
      "outputs": [],
      "source": [
        "# Calculate LR\n",
        "S_ineq = idc.calculate_LR(data, gmodel, ex.calculate_Ftheta_entrygame, LB, UB, linear_onesided_constraint, seed=123, split=\"crossfit\")\n",
        "print(S)"
      ]
    },
    {
      "cell_type": "markdown",
      "metadata": {
        "id": "ukDXDz4DDvwg"
      },
      "source": [
        "# Testing a nonlinear hypothesis\n",
        "\n",
        "Testing a nonlinear hypothesis can be done similarly. You simply pass the nonlinear constraint as an argument to the same function.\n"
      ]
    },
    {
      "cell_type": "code",
      "execution_count": null,
      "metadata": {
        "colab": {
          "base_uri": "https://localhost:8080/"
        },
        "id": "RUeGfR1PHuxm",
        "outputId": "3028ca82-60ea-4015-a073-dcb471f1c767"
      },
      "outputs": [],
      "source": [
        "# Calculate LR\n",
        "S = idc.calculate_LR(data, gmodel, ex.calculate_Ftheta_entrygame, LB, UB, nonlinear_constraint, seed=123, split=\"crossfit\")\n",
        "print(S)"
      ]
    }
  ],
  "metadata": {
    "colab": {
      "authorship_tag": "ABX9TyPVePtRiLdixMCeExcMnKHd",
      "include_colab_link": true,
      "provenance": []
    },
    "kernelspec": {
      "display_name": "Python 3",
      "name": "python3"
    },
    "language_info": {
      "codemirror_mode": {
        "name": "ipython",
        "version": 3
      },
      "file_extension": ".py",
      "mimetype": "text/x-python",
      "name": "python",
      "nbconvert_exporter": "python",
      "pygments_lexer": "ipython3",
      "version": "3.12.0"
    }
  },
  "nbformat": 4,
  "nbformat_minor": 0
}
