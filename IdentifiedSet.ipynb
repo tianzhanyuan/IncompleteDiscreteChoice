{
  "cells": [
    {
      "cell_type": "markdown",
      "metadata": {
        "colab_type": "text",
        "id": "view-in-github"
      },
      "source": [
        "<a href=\"https://colab.research.google.com/github/hkaido0718/IncompleteDiscreteChoice/blob/main/IdentifiedSet.ipynb\" target=\"_parent\"><img src=\"https://colab.research.google.com/assets/colab-badge.svg\" alt=\"Open In Colab\"/></a>"
      ]
    },
    {
      "cell_type": "markdown",
      "metadata": {
        "id": "ac-h03QYyxiY"
      },
      "source": [
        "# Inequalities $\\to$ Identified Set\n",
        "\n",
        "We saw how to derive the sharp identifying restrictions (inequalities) from a graph. Suppose $P(\\cdot|x)$ is known. The _sharp identified set_ $\\Theta_I(P)$ is the set of $\\theta$ values that are compatible with $P$ and all model restrictions. That is,\n",
        "$$\\Theta_I(P)\\equiv\\{\\theta:P(A|x)\\ge \\nu_\\theta(A|x),~x\\in\\mathcal X, A\\subseteq \\mathcal Y\\}.$$\n",
        "\n",
        "Let's try to obtain this set. First, we load the `idc` library."
      ]
    },
    {
      "cell_type": "code",
      "execution_count": 8,
      "metadata": {
        "colab": {
          "base_uri": "https://localhost:8080/"
        },
        "id": "d88ItyJcP9jF",
        "outputId": "420ae32a-a29a-4297-bcb6-ff490e574ec5"
      },
      "outputs": [
        {
          "name": "stderr",
          "output_type": "stream",
          "text": [
            "fatal: destination path 'IncompleteDiscreteChoice' already exists and is not an empty directory.\n"
          ]
        }
      ],
      "source": [
        "!git clone https://github.com/hkaido0718/IncompleteDiscreteChoice.git"
      ]
    },
    {
      "cell_type": "markdown",
      "metadata": {
        "id": "MliseylAzjSf"
      },
      "source": [
        "# Example: Entry game\n",
        "\n",
        "We used $(F_\\theta(a),F_\\theta(b),F_\\theta(c),F_\\theta(d),F_\\theta(e))=(0.1, 0.2, 0.3, 0.15, 0.25)$, which was arbitrary. Let's derive the probability allocation from a parametric model.\n",
        "\n",
        "Earlier, we considered the following regions\n",
        "\\begin{align*}\n",
        "\\text{region00} &= \\{U_1 \\leq -x_1\\beta_1, U_2 \\leq -x_2\\beta_2\\} \\\\\n",
        "\\text{region01} &= \\{U_1 \\leq -x_1\\beta_1 - \\delta_1,U_2 \\geq -x_2\\beta_2\\} \\\\\n",
        "\\text{region10} &= \\{U_1 \\geq -x_1\\beta_1, U_2 \\leq -x_2\\beta_2 - \\delta_2\\} \\\\\n",
        "\\text{region11} &= \\{U_1 \\geq -x_1\\beta_1 - \\delta_1, U_2 \\geq -x_2\\beta_2 - \\delta_2\\}\n",
        "\\end{align*}\n",
        "\n",
        "\n",
        "\n",
        "Suppose $(U_1,U_2)$ is a bivariate normal distribution with mean 0, variance 1, and correlation $\\rho$.\n",
        "Define the following $U$-nodes\n",
        "\\begin{align}\n",
        "a &= \\text{region00}\\\\\n",
        "b &= \\text{region01} \\setminus \\text{region10}\\\\\n",
        "c &= \\text{region10} \\setminus \\text{region01}\\\\\n",
        "d &= \\text{region11}\\\\\n",
        "e &= \\text{region01} \\cap \\text{region10}.\n",
        "\\end{align}\n",
        "We can calculate the probability distribution over the nodes under the normality assumption. The function `ex.calculate_Ftheta_entrygame` does this job. An example is given below."
      ]
    },
    {
      "cell_type": "code",
      "execution_count": 9,
      "metadata": {
        "colab": {
          "base_uri": "https://localhost:8080/"
        },
        "id": "GNjnb3V_yv-n",
        "outputId": "5939f1a7-ac55-4a4a-c5d3-ffbeb5110a21"
      },
      "outputs": [
        {
          "ename": "AttributeError",
          "evalue": "`scipy.stats.mvn` has no attribute `mvnun`; furthermore, `scipy.stats.mvn` is deprecated and will be removed in SciPy 2.0.0.",
          "output_type": "error",
          "traceback": [
            "\u001b[31m---------------------------------------------------------------------------\u001b[39m",
            "\u001b[31mAttributeError\u001b[39m                            Traceback (most recent call last)",
            "\u001b[36mCell\u001b[39m\u001b[36m \u001b[39m\u001b[32mIn[9]\u001b[39m\u001b[32m, line 14\u001b[39m\n\u001b[32m     12\u001b[39m X = [X1,X2]\n\u001b[32m     13\u001b[39m theta_true = [beta1, beta2, delta1, delta2, rho]\n\u001b[32m---> \u001b[39m\u001b[32m14\u001b[39m Ftheta = \u001b[43mex\u001b[49m\u001b[43m.\u001b[49m\u001b[43mcalculate_Ftheta_entrygame\u001b[49m\u001b[43m(\u001b[49m\u001b[43mX\u001b[49m\u001b[43m,\u001b[49m\u001b[43m \u001b[49m\u001b[43mtheta_true\u001b[49m\u001b[43m)\u001b[49m\n\u001b[32m     15\u001b[39m \u001b[38;5;28mprint\u001b[39m(Ftheta)\n",
            "\u001b[36mFile \u001b[39m\u001b[32md:\\RA\\2025fall\\IncompleteDiscreteChoice\\examples.py:37\u001b[39m, in \u001b[36mcalculate_Ftheta_entrygame\u001b[39m\u001b[34m(X, theta)\u001b[39m\n\u001b[32m     34\u001b[39m upper_region11 = [np.inf, np.inf]\n\u001b[32m     36\u001b[39m \u001b[38;5;66;03m# Calculate probabilities for each region using the CDF of the multivariate normal\u001b[39;00m\n\u001b[32m---> \u001b[39m\u001b[32m37\u001b[39m prob_region00 = \u001b[43mmvn_prob\u001b[49m\u001b[43m(\u001b[49m\u001b[43mlower_region00\u001b[49m\u001b[43m,\u001b[49m\u001b[43m \u001b[49m\u001b[43mupper_region00\u001b[49m\u001b[43m)\u001b[49m\n\u001b[32m     38\u001b[39m prob_region01 = mvn_prob(lower_region01, upper_region01)\n\u001b[32m     39\u001b[39m prob_region10 = mvn_prob(lower_region10, upper_region10)\n",
            "\u001b[36mFile \u001b[39m\u001b[32md:\\RA\\2025fall\\IncompleteDiscreteChoice\\examples.py:17\u001b[39m, in \u001b[36mcalculate_Ftheta_entrygame.<locals>.mvn_prob\u001b[39m\u001b[34m(lower, upper)\u001b[39m\n\u001b[32m     15\u001b[39m lower = np.array(lower)\n\u001b[32m     16\u001b[39m upper = np.array(upper)\n\u001b[32m---> \u001b[39m\u001b[32m17\u001b[39m p, _ = \u001b[43mmvn\u001b[49m\u001b[43m.\u001b[49m\u001b[43mmvnun\u001b[49m(lower, upper, mean, cov)  \u001b[38;5;66;03m# compute MVN prob of a rectangle\u001b[39;00m\n\u001b[32m     18\u001b[39m \u001b[38;5;28;01mreturn\u001b[39;00m p\n",
            "\u001b[36mFile \u001b[39m\u001b[32md:\\Program Files (x86)\\Python\\Lib\\site-packages\\scipy\\stats\\mvn.py:15\u001b[39m, in \u001b[36m__getattr__\u001b[39m\u001b[34m(name)\u001b[39m\n\u001b[32m     14\u001b[39m \u001b[38;5;28;01mdef\u001b[39;00m\u001b[38;5;250m \u001b[39m\u001b[34m__getattr__\u001b[39m(name):\n\u001b[32m---> \u001b[39m\u001b[32m15\u001b[39m     \u001b[38;5;28;01mreturn\u001b[39;00m \u001b[43m_sub_module_deprecation\u001b[49m\u001b[43m(\u001b[49m\u001b[43msub_package\u001b[49m\u001b[43m=\u001b[49m\u001b[33;43m\"\u001b[39;49m\u001b[33;43mstats\u001b[39;49m\u001b[33;43m\"\u001b[39;49m\u001b[43m,\u001b[49m\u001b[43m \u001b[49m\u001b[43mmodule\u001b[49m\u001b[43m=\u001b[49m\u001b[33;43m\"\u001b[39;49m\u001b[33;43mmvn\u001b[39;49m\u001b[33;43m\"\u001b[39;49m\u001b[43m,\u001b[49m\n\u001b[32m     16\u001b[39m \u001b[43m                                   \u001b[49m\u001b[43mprivate_modules\u001b[49m\u001b[43m=\u001b[49m\u001b[43m[\u001b[49m\u001b[33;43m\"\u001b[39;49m\u001b[33;43m_mvn\u001b[39;49m\u001b[33;43m\"\u001b[39;49m\u001b[43m]\u001b[49m\u001b[43m,\u001b[49m\u001b[43m \u001b[49m\u001b[38;5;28;43mall\u001b[39;49m\u001b[43m=\u001b[49m\u001b[43m__all__\u001b[49m\u001b[43m,\u001b[49m\n\u001b[32m     17\u001b[39m \u001b[43m                                   \u001b[49m\u001b[43mattribute\u001b[49m\u001b[43m=\u001b[49m\u001b[43mname\u001b[49m\u001b[43m)\u001b[49m\n",
            "\u001b[36mFile \u001b[39m\u001b[32md:\\Program Files (x86)\\Python\\Lib\\site-packages\\scipy\\_lib\\deprecation.py:45\u001b[39m, in \u001b[36m_sub_module_deprecation\u001b[39m\u001b[34m(sub_package, module, private_modules, all, attribute, correct_module, dep_version)\u001b[39m\n\u001b[32m     42\u001b[39m     correct_import = \u001b[33mf\u001b[39m\u001b[33m\"\u001b[39m\u001b[33mscipy.\u001b[39m\u001b[38;5;132;01m{\u001b[39;00msub_package\u001b[38;5;132;01m}\u001b[39;00m\u001b[33m\"\u001b[39m\n\u001b[32m     44\u001b[39m \u001b[38;5;28;01mif\u001b[39;00m attribute \u001b[38;5;129;01mnot\u001b[39;00m \u001b[38;5;129;01min\u001b[39;00m \u001b[38;5;28mall\u001b[39m:\n\u001b[32m---> \u001b[39m\u001b[32m45\u001b[39m     \u001b[38;5;28;01mraise\u001b[39;00m \u001b[38;5;167;01mAttributeError\u001b[39;00m(\n\u001b[32m     46\u001b[39m         \u001b[33mf\u001b[39m\u001b[33m\"\u001b[39m\u001b[33m`scipy.\u001b[39m\u001b[38;5;132;01m{\u001b[39;00msub_package\u001b[38;5;132;01m}\u001b[39;00m\u001b[33m.\u001b[39m\u001b[38;5;132;01m{\u001b[39;00mmodule\u001b[38;5;132;01m}\u001b[39;00m\u001b[33m` has no attribute `\u001b[39m\u001b[38;5;132;01m{\u001b[39;00mattribute\u001b[38;5;132;01m}\u001b[39;00m\u001b[33m`; \u001b[39m\u001b[33m\"\u001b[39m\n\u001b[32m     47\u001b[39m         \u001b[33mf\u001b[39m\u001b[33m\"\u001b[39m\u001b[33mfurthermore, `scipy.\u001b[39m\u001b[38;5;132;01m{\u001b[39;00msub_package\u001b[38;5;132;01m}\u001b[39;00m\u001b[33m.\u001b[39m\u001b[38;5;132;01m{\u001b[39;00mmodule\u001b[38;5;132;01m}\u001b[39;00m\u001b[33m` is deprecated \u001b[39m\u001b[33m\"\u001b[39m\n\u001b[32m     48\u001b[39m         \u001b[33mf\u001b[39m\u001b[33m\"\u001b[39m\u001b[33mand will be removed in SciPy 2.0.0.\u001b[39m\u001b[33m\"\u001b[39m\n\u001b[32m     49\u001b[39m     )\n\u001b[32m     51\u001b[39m attr = \u001b[38;5;28mgetattr\u001b[39m(import_module(correct_import), attribute, \u001b[38;5;28;01mNone\u001b[39;00m)\n\u001b[32m     53\u001b[39m \u001b[38;5;28;01mif\u001b[39;00m attr \u001b[38;5;129;01mis\u001b[39;00m \u001b[38;5;129;01mnot\u001b[39;00m \u001b[38;5;28;01mNone\u001b[39;00m:\n",
            "\u001b[31mAttributeError\u001b[39m: `scipy.stats.mvn` has no attribute `mvnun`; furthermore, `scipy.stats.mvn` is deprecated and will be removed in SciPy 2.0.0."
          ]
        }
      ],
      "source": [
        "import examples as ex\n",
        "\n",
        "# Example usage\n",
        "beta1 = 0.75\n",
        "beta2 = 0.25\n",
        "delta1 = -0.5\n",
        "delta2 = -1\n",
        "rho = 0.5\n",
        "\n",
        "X1 = 1\n",
        "X2 = -1\n",
        "X = [X1,X2]\n",
        "theta_true = [beta1, beta2, delta1, delta2, rho]\n",
        "Ftheta = ex.calculate_Ftheta_entrygame(X, theta_true)\n",
        "print(Ftheta)\n"
      ]
    },
    {
      "cell_type": "markdown",
      "metadata": {
        "id": "eUN9D3wLQQwK"
      },
      "source": [
        "Now let's combine this function with the one that yields the sharp lower bounds for the conditional probabilities. For this, we first represent the model by a graph."
      ]
    },
    {
      "cell_type": "code",
      "execution_count": null,
      "metadata": {
        "id": "zmTRAmTKOee9"
      },
      "outputs": [],
      "source": [
        "import idclib_undi as idc\n",
        "# Define the model\n",
        "Y_nodes = [(0,0), (0,1), (1,0), (1,1)]\n",
        "U_nodes = ['a', 'b', 'c', 'd', 'e']\n",
        "edges = [\n",
        "    ('a', (0,0)),\n",
        "    ('b', (0,1)),\n",
        "    ('c', (1,0)),\n",
        "    ('d', (1,1)),\n",
        "    ('e', (0,1)),\n",
        "    ('e', (1,0))\n",
        "]\n",
        "gmodel = idc.BipartiteGraph(Y_nodes, U_nodes, edges)"
      ]
    },
    {
      "cell_type": "markdown",
      "metadata": {
        "id": "HpiiWXY_pw_U"
      },
      "source": [
        "Now, for any $\\theta$, we can calculates the sharp identifying restrictions (lower bounds)."
      ]
    },
    {
      "cell_type": "code",
      "execution_count": null,
      "metadata": {
        "colab": {
          "base_uri": "https://localhost:8080/"
        },
        "id": "jpGSs7KWp7xm",
        "outputId": "a5f2ba7c-8d2a-40e0-abb6-a2717df017fd"
      },
      "outputs": [],
      "source": [
        "# Use the calculate_sharp_lower_bound to calculate probabilities.\n",
        "results,sharp_lower_bounds = gmodel.calculate_sharp_lower_bound(Ftheta)\n",
        "\n",
        "# Show results\n",
        "idc.print_table(results)"
      ]
    },
    {
      "cell_type": "markdown",
      "metadata": {
        "id": "Lz5oQg6M1UFt"
      },
      "source": [
        "Now, let's try to get the identified set. Suppose the true DGP is such that it selects (1,0) whenever multiple equilibria exist. Then, the probability allocation is\n",
        "\\begin{align}\n",
        "P((0,0)|x)&=F_\\theta(a|x)\\\\\n",
        "P((0,1)|x)&=F_\\theta(b|x)\\\\\n",
        "P((1,0)|x)&=F_\\theta(c|x)+F_\\theta(e|x)\\\\\n",
        "P((1,1)|x)&=F_\\theta(d|x).\n",
        "\\end{align}"
      ]
    },
    {
      "cell_type": "code",
      "execution_count": null,
      "metadata": {
        "colab": {
          "base_uri": "https://localhost:8080/"
        },
        "id": "7fZk1UXD2DRb",
        "outputId": "1056938f-0b68-433a-84b0-c36ce32229e7"
      },
      "outputs": [],
      "source": [
        "P0 = sharp_lower_bounds[1:5]\n",
        "P0[2] = 1 - (P0[0] + P0[1] + P0[3])\n",
        "print(P0)"
      ]
    },
    {
      "cell_type": "markdown",
      "metadata": {
        "id": "KP8JLAhk3Uy5"
      },
      "source": [
        "Now, let's calculate the probabilities of all events under $P$.\n"
      ]
    },
    {
      "cell_type": "code",
      "execution_count": null,
      "metadata": {
        "colab": {
          "base_uri": "https://localhost:8080/"
        },
        "id": "VNbUPXb83efn",
        "outputId": "beed3205-74a5-4280-906c-17bac45dc086"
      },
      "outputs": [],
      "source": [
        "results, subset_probabilities = idc.calculate_subset_probabilities(P0, Y_nodes)\n",
        "\n",
        "print(f\"{'Subset of Y-nodes':<45} {'P(A|x)':<20}\")\n",
        "print(\"=\"*65)\n",
        "for subset_set, subset_prob in results:\n",
        "    print(f\"{str(subset_set):<45} {subset_prob:<20.3f}\")"
      ]
    },
    {
      "cell_type": "markdown",
      "metadata": {
        "id": "TAavnDHUE2-s"
      },
      "source": [
        "Compare this to the sharp lower bound. Not surprisingly, the conditional probability $P(A|x)$ is above the sharp lower bound for any event. Hence, $\\theta=(0.75, 0.25, -0.5, -1, 0.5)$ is in $\\Theta_I(P)$. Now, lets see if there are other parameter values that are in the sharp identified set.\n",
        "\n",
        "For simplicity, suppose $\\beta_1=0.75$, $\\beta_2=0.25$, and $\\rho=0.5$ is known. The following code calculates the set of $(\\delta_1,\\delta_2)$ that are compatible with the sharp identifying restrictions."
      ]
    },
    {
      "cell_type": "markdown",
      "metadata": {
        "id": "JV9X7RWIVI3D"
      },
      "source": [
        "It is hard to plot $\\Theta_I(P_0)$, but we can get its projection (to the $j$-th coordinate) by solving the following optimization problem.\n",
        "\n",
        "\\begin{align*}\\max/\\min_{\\theta\\in\\Theta} &~\\theta_j\\\\\n",
        "s.t.&~P(A|x)\\ge \\nu_\\theta(A|x),~x\\in\\mathcal X, A\\subseteq \\mathcal Y.\n",
        "\\end{align*}\n",
        "\n",
        "The following code computes the projection of the sharp identification region for a component of your choice (there will be a prompt to choose the component)."
      ]
    },
    {
      "cell_type": "code",
      "execution_count": null,
      "metadata": {
        "colab": {
          "base_uri": "https://localhost:8080/"
        },
        "id": "9uBQ3rwxXZS_",
        "outputId": "06e8b1a8-21fc-4f88-94de-1e306df7f302"
      },
      "outputs": [],
      "source": [
        "import numpy as np\n",
        "from scipy.optimize import minimize, NonlinearConstraint\n",
        "from itertools import product\n",
        "\n",
        "# Define your lower and upper bounds\n",
        "lower = np.array([-2, -2, -2.5, -2.5, 0.01])\n",
        "upper = np.array([2, 2, -0.01, -0.01, 0.8])\n",
        "\n",
        "# X values\n",
        "values = [-1,1]\n",
        "X_values = list(product(values, values))\n",
        "\n",
        "# Set P0(A|X)\n",
        "subset_probabilities_all = []\n",
        "for X in X_values:\n",
        "    Ftheta = ex.calculate_Ftheta_entrygame(np.array(X), theta_true)\n",
        "    _, sharp_lower_bounds = gmodel.calculate_sharp_lower_bound(Ftheta)\n",
        "    P0 = sharp_lower_bounds[1:5]\n",
        "    P0[2] = 1 - (P0[0] + P0[1] + P0[3])\n",
        "    _, subset_probabilities = idc.calculate_subset_probabilities(P0, Y_nodes)\n",
        "    subset_probabilities_all.append(subset_probabilities)\n",
        "\n",
        "# Function to create the objective function based on the user-selected component\n",
        "def create_objective_function(component_index, maximize=True):\n",
        "    if maximize:\n",
        "        return lambda theta: -theta[component_index]\n",
        "    else:\n",
        "        return lambda theta: theta[component_index]\n",
        "\n",
        "# Define the constraint function\n",
        "def constraint(theta):\n",
        "    sharp_lower_bounds_all = []\n",
        "    for X in X_values:\n",
        "        Ftheta = ex.calculate_Ftheta_entrygame(np.array(X), theta)\n",
        "        _, sharp_lower_bounds = gmodel.calculate_sharp_lower_bound(Ftheta)\n",
        "        sharp_lower_bounds_all.append(sharp_lower_bounds)\n",
        "\n",
        "    constraints = np.array(sharp_lower_bounds_all) - np.array(subset_probabilities_all)\n",
        "    # Stack constraints into a single array\n",
        "    return np.hstack(constraints)\n",
        "\n",
        "# Define the bounds for the optimization\n",
        "bounds = [(l, u) for l, u in zip(lower, upper)]\n",
        "\n",
        "# Create a NonlinearConstraint object\n",
        "nonlinear_constraint = NonlinearConstraint(constraint, -np.inf, 1e-4)\n",
        "\n",
        "# Define initial guess for theta\n",
        "initial_theta = np.mean([lower, upper], axis=0)\n",
        "\n",
        "# User specifies the component of theta to optimize\n",
        "component_index = int(input(\"Enter the component index of theta to optimize (0-based index): \"))\n",
        "\n",
        "# Run the optimization for maximization\n",
        "objective_max = create_objective_function(component_index, maximize=True)\n",
        "result_max = minimize(objective_max, initial_theta, method='trust-constr', bounds=bounds, constraints=[nonlinear_constraint], options={'verbose': 1})\n",
        "\n",
        "# Run the optimization for minimization\n",
        "objective_min = create_objective_function(component_index, maximize=False)\n",
        "result_min = minimize(objective_min, initial_theta, method='trust-constr', bounds=bounds, constraints=[nonlinear_constraint], options={'verbose': 1})\n",
        "\n",
        "# Check if the optimization for maximization was successful\n",
        "if result_max.success:\n",
        "    max_theta_value = -result_max.fun\n",
        "    optimized_theta_max = result_max.x\n",
        "    print(f\"The maximum value of the component {component_index} of theta that satisfies the condition is: {max_theta_value}\")\n",
        "else:\n",
        "    print(\"Maximization optimization failed.\")\n",
        "    print(result_max.message)\n",
        "\n",
        "# Check if the optimization for minimization was successful\n",
        "if result_min.success:\n",
        "    min_theta_value = result_min.fun\n",
        "    optimized_theta_min = result_min.x\n",
        "    print(f\"The minimum value of the component {component_index} of theta that satisfies the condition is: {min_theta_value}\")\n",
        "else:\n",
        "    print(\"Minimization optimization failed.\")\n",
        "    print(result_min.message)"
      ]
    },
    {
      "cell_type": "markdown",
      "metadata": {
        "id": "S3UNl4PEhL61"
      },
      "source": [
        "For example, the projection of $\\Theta_I(P_0)$ to the 3rd coordinate (i.e., $\\delta_1$; use 2 (0-based index) as an input above) is $[-0.501,-0.498]$."
      ]
    }
  ],
  "metadata": {
    "colab": {
      "authorship_tag": "ABX9TyMux411Um3MH91xFedCJZDJ",
      "include_colab_link": true,
      "provenance": [],
      "toc_visible": true
    },
    "kernelspec": {
      "display_name": "Python 3",
      "name": "python3"
    },
    "language_info": {
      "codemirror_mode": {
        "name": "ipython",
        "version": 3
      },
      "file_extension": ".py",
      "mimetype": "text/x-python",
      "name": "python",
      "nbconvert_exporter": "python",
      "pygments_lexer": "ipython3",
      "version": "3.12.0"
    }
  },
  "nbformat": 4,
  "nbformat_minor": 0
}
