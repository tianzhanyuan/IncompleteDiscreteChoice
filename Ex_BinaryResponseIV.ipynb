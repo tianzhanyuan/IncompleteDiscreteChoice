{
  "nbformat": 4,
  "nbformat_minor": 0,
  "metadata": {
    "colab": {
      "provenance": [],
      "include_colab_link": true
    },
    "kernelspec": {
      "name": "python3",
      "display_name": "Python 3"
    },
    "language_info": {
      "name": "python"
    }
  },
  "cells": [
    {
      "cell_type": "markdown",
      "metadata": {
        "id": "view-in-github",
        "colab_type": "text"
      },
      "source": [
        "<a href=\"https://colab.research.google.com/github/tianzhanyuan/IncompleteDiscreteChoice/blob/zhanyuan-patch-1/Ex_BinaryResponseIV.ipynb\" target=\"_parent\"><img src=\"https://colab.research.google.com/assets/colab-badge.svg\" alt=\"Open In Colab\"/></a>"
      ]
    },
    {
      "cell_type": "markdown",
      "source": [
        "# Binary Response IV Model\n",
        "\n",
        "Consider a binary outcome $Y$ (e.g., female labor force participation) generated according to\n",
        "\n",
        "\\begin{align}\n",
        "Y = 1\\{\\mu(D,W)\\ge U\\}.\n",
        "\\end{align}\n",
        "\n",
        "$D$ is a binary treatment, which may be related to the unobserved determinant $U$ of the outcome. $W$ is a vector of control variables. The model does not specify how $D$ is generated. This is a _single equation IV model_.\n",
        "We, therefore, allow all values of outcome and treatment status that satisfy the structural relationship. We assume instrumental variables $Z$ satisfying $U\\perp Z|W$ is available. We let $X=(Z',W')'.$\n",
        "\n",
        "\n",
        "Formally, the model prediction is\n",
        "\\begin{align}\n",
        "G(u|x;\\theta)=\\big\\{(y,d):y = 1\\{\\mu(d,w)\\ge u\\}\\big\\}.\n",
        "\\end{align}"
      ],
      "metadata": {
        "id": "wZa1WW3Br6MQ"
      }
    },
    {
      "cell_type": "markdown",
      "source": [
        "## Model prediction\n",
        "\n",
        "Consider the case $(y,d)=(1,1)$. This outcome occurs when $\\mu(1,w)\\ge u$. Similarly, $(y,d)=(1,0)$ occurs when $\\mu(0,w)\\ge u$, $(y,d)=(0,1)$ occurs when $\\mu(1,w)< u$, and $(y,d)=(0,0)$ occurs $\\mu(0,w)< u$.\n",
        "\n",
        "Suppose $\\mu(1,w)<\\mu(0,w)$. Then, $G$ can be summarized as follows\n",
        "\\begin{align}\n",
        "G(u|x;\\theta)=\\begin{cases}\n",
        "\\{(0,0),(0,1)\\} & \\text{ if } u > \\mu(0,w)\\\\\n",
        "\\{(0,1),(1,0)\\} & \\text{ if } \\mu(1,w)< u \\le \\mu(0,w)\\\\\n",
        "\\{(1,0),(1,1)\\} & \\text{ if } u\\le \\mu(1,w)\n",
        "\\end{cases}\n",
        "\\end{align}\n",
        "\n",
        "This prediction is visualized below."
      ],
      "metadata": {
        "id": "_tC7-0qlwwAA"
      }
    },
    {
      "cell_type": "code",
      "source": [
        "import matplotlib.pyplot as plt\n",
        "\n",
        "# Set the scale for the figure\n",
        "scale = 0.8\n",
        "fig, ax = plt.subplots(figsize=(6 * scale, 7.5* scale))\n",
        "\n",
        "# Draw the y-axis\n",
        "ax.arrow(0, 0, 0, 7.5, head_width=0.1, head_length=0.3, fc='black', ec='black')\n",
        "ax.text(-0.5, 7.5, r'$U$', va='center')\n",
        "\n",
        "# Draw the dashed lines\n",
        "dashed_lines_y = [2.5,5]\n",
        "for y in dashed_lines_y:\n",
        "    ax.plot([0, 6], [y, y], 'k--')\n",
        "\n",
        "# Add text labels\n",
        "ax.text(3, 1.2, r'$\\{(1,0),(1,1)\\} : c$', ha='center')\n",
        "ax.text(3, 3.5, r'$\\{(0,1),(1,0)\\} : b$', ha='center')\n",
        "ax.text(3, 6, r'$\\{(0,0),(0,1)\\} : a$', ha='center')\n",
        "\n",
        "# Add the specific text annotations next to the dashed lines\n",
        "ax.text(-0.1, 5, r'$\\mu(0,w)$', va='center', ha='right')\n",
        "ax.text(-0.1, 2.5, r'$\\mu(1,w)$', va='center', ha='right')\n",
        "\n",
        "# Adjust the plot limits and remove the x-axis\n",
        "ax.set_xlim(-1, 6)\n",
        "ax.set_ylim(0, 8)\n",
        "ax.axis('off')\n",
        "\n",
        "plt.show()\n"
      ],
      "metadata": {
        "id": "F7CclgJs_B5G"
      },
      "execution_count": null,
      "outputs": []
    },
    {
      "cell_type": "code",
      "source": [
        "!git clone https://github.com/hkaido0718/IncompleteDiscreteChoice.git\n",
        "!pip install scikit-optimize"
      ],
      "metadata": {
        "collapsed": true,
        "id": "sZL2Tb2VF4AU"
      },
      "execution_count": 5,
      "outputs": []
    },
    {
      "cell_type": "markdown",
      "source": [
        "We now convert the prediction into a graph."
      ],
      "metadata": {
        "id": "aoICBnXkF3C1"
      }
    },
    {
      "cell_type": "code",
      "source": [
        "import idclib_undi as idc\n",
        "\n",
        "# Define the Y-nodes and U-nodes\n",
        "Y_nodes = [(0,0),(0,1),(1,0),(1,1)]\n",
        "U_nodes = ['a', 'b', 'c']\n",
        "\n",
        "# Add edges between nodes\n",
        "edges = [\n",
        "    ('a', (0,1)),\n",
        "    ('a', (0,0)),\n",
        "    ('b', (1,0)),\n",
        "    ('b', (0,1)),\n",
        "    ('c', (1,1)),\n",
        "    ('c', (1,0))\n",
        "]\n",
        "\n",
        "# idc library has a class BipartiteGraph to store your model\n",
        "gmodel = idc.BipartiteGraph(Y_nodes, U_nodes, edges)\n",
        "\n",
        "# Plot the graph using the new method\n",
        "gmodel.plot_graph(title='Binary Choice with Endogeneity')"
      ],
      "metadata": {
        "colab": {
          "base_uri": "https://localhost:8080/",
          "height": 398
        },
        "id": "kFacHWyaF9q3",
        "outputId": "883adf28-0fc3-4443-c2c3-758835e3d4b5"
      },
      "execution_count": 6,
      "outputs": [
        {
          "output_type": "error",
          "ename": "ModuleNotFoundError",
          "evalue": "No module named 'idclib_undi'",
          "traceback": [
            "\u001b[0;31m---------------------------------------------------------------------------\u001b[0m",
            "\u001b[0;31mModuleNotFoundError\u001b[0m                       Traceback (most recent call last)",
            "\u001b[0;32m/tmp/ipython-input-4199786464.py\u001b[0m in \u001b[0;36m<cell line: 0>\u001b[0;34m()\u001b[0m\n\u001b[0;32m----> 1\u001b[0;31m \u001b[0;32mimport\u001b[0m \u001b[0midclib_undi\u001b[0m \u001b[0;32mas\u001b[0m \u001b[0midc\u001b[0m\u001b[0;34m\u001b[0m\u001b[0;34m\u001b[0m\u001b[0m\n\u001b[0m\u001b[1;32m      2\u001b[0m \u001b[0;34m\u001b[0m\u001b[0m\n\u001b[1;32m      3\u001b[0m \u001b[0;31m# Define the Y-nodes and U-nodes\u001b[0m\u001b[0;34m\u001b[0m\u001b[0;34m\u001b[0m\u001b[0m\n\u001b[1;32m      4\u001b[0m \u001b[0mY_nodes\u001b[0m \u001b[0;34m=\u001b[0m \u001b[0;34m[\u001b[0m\u001b[0;34m(\u001b[0m\u001b[0;36m0\u001b[0m\u001b[0;34m,\u001b[0m\u001b[0;36m0\u001b[0m\u001b[0;34m)\u001b[0m\u001b[0;34m,\u001b[0m\u001b[0;34m(\u001b[0m\u001b[0;36m0\u001b[0m\u001b[0;34m,\u001b[0m\u001b[0;36m1\u001b[0m\u001b[0;34m)\u001b[0m\u001b[0;34m,\u001b[0m\u001b[0;34m(\u001b[0m\u001b[0;36m1\u001b[0m\u001b[0;34m,\u001b[0m\u001b[0;36m0\u001b[0m\u001b[0;34m)\u001b[0m\u001b[0;34m,\u001b[0m\u001b[0;34m(\u001b[0m\u001b[0;36m1\u001b[0m\u001b[0;34m,\u001b[0m\u001b[0;36m1\u001b[0m\u001b[0;34m)\u001b[0m\u001b[0;34m]\u001b[0m\u001b[0;34m\u001b[0m\u001b[0;34m\u001b[0m\u001b[0m\n\u001b[1;32m      5\u001b[0m \u001b[0mU_nodes\u001b[0m \u001b[0;34m=\u001b[0m \u001b[0;34m[\u001b[0m\u001b[0;34m'a'\u001b[0m\u001b[0;34m,\u001b[0m \u001b[0;34m'b'\u001b[0m\u001b[0;34m,\u001b[0m \u001b[0;34m'c'\u001b[0m\u001b[0;34m]\u001b[0m\u001b[0;34m\u001b[0m\u001b[0;34m\u001b[0m\u001b[0m\n",
            "\u001b[0;31mModuleNotFoundError\u001b[0m: No module named 'idclib_undi'",
            "",
            "\u001b[0;31m---------------------------------------------------------------------------\u001b[0;32m\nNOTE: If your import is failing due to a missing package, you can\nmanually install dependencies using either !pip or !apt.\n\nTo view examples of installing some common dependencies, click the\n\"Open Examples\" button below.\n\u001b[0;31m---------------------------------------------------------------------------\u001b[0m\n"
          ],
          "errorDetails": {
            "actions": [
              {
                "action": "open_url",
                "actionText": "Open Examples",
                "url": "/notebooks/snippets/importing_libraries.ipynb"
              }
            ]
          }
        }
      ]
    },
    {
      "cell_type": "markdown",
      "source": [
        "We may derive the sharp idetifying restrictions."
      ],
      "metadata": {
        "id": "UUawmKbclwPk"
      }
    },
    {
      "cell_type": "markdown",
      "source": [
        "Recall that we normalized the distribution of $U|W$ to $U[0,1]$. Hence,\n",
        "\\begin{align}\n",
        "F_\\theta(U\\in a|w,z)&=1-\\mu(0,w)\\\\\n",
        "F_\\theta(U\\in b|w,z)&=\\mu(0,w)-\\mu(1,w)\\\\\n",
        "F_\\theta(U\\in c|w,z)&=\\mu(1,w).\n",
        "\\end{align}\n",
        "\n",
        "We can check how these structural objects are related to the distribution of the observable endogenous variables $(Y,D)$.\n",
        "\n",
        "For example, let's hypothesize that $\\mu(0,w)=0.7$ and $\\mu(1,w)=0.3$. The average treatment effect of switching from $d=1$  to $d=0$ (at $w$) is $\\mu(0,w)-\\mu(1,w)=0.4$. One can check if these values are compatible with data by checking the sharp identifying restrictions."
      ],
      "metadata": {
        "id": "pJR8dOKumrLm"
      }
    },
    {
      "cell_type": "code",
      "source": [
        "import numpy as np\n",
        "\n",
        "# Define probabilities for the U-nodes\n",
        "Ftheta = np.array([0.3, 0.4, 0.3])  # Example probabilities corresponding to U_nodes\n",
        "\n",
        "# Use the calculate_sharp_lower_bound to calculate probabilities.\n",
        "results,sharp_lower_bounds = gmodel.calculate_sharp_lower_bound(Ftheta)\n",
        "idc.print_table(results)"
      ],
      "metadata": {
        "id": "oJdBuMf2HEXH"
      },
      "execution_count": null,
      "outputs": []
    },
    {
      "cell_type": "markdown",
      "source": [
        "The second row suggests $\\mu(0,w)-\\mu(1,w)$ is bounded from above by $P(Y=(0,1) \\text{ or }(1,0)|w,z)$, which can be calculated from data. Since the ATE does not depend on $z$, a simple upper bound on this object can be obtained by using the 2nd row of the table above across different values of $z$:\n",
        "\\begin{align}\n",
        "\\inf_z P(Y=(0,1) \\text{ or }(1,0)|w,z)\\ge \\mu(0,w)-\\mu(1,w).\n",
        "\\end{align}\n",
        "\n",
        "In general, one can use all sharp identifying restrictions to make inference about functions of $\\mu$ (see other notes)."
      ],
      "metadata": {
        "id": "AXHdwRuMojgx"
      }
    },
    {
      "cell_type": "markdown",
      "source": [
        "## References\n",
        "- Chesher, A. and Rosen, A. (2013) \"What do instrumental variable models deliver with discrete dependent variables?\"  *American Economic Review, Papers and Proceedings*.\n",
        "  "
      ],
      "metadata": {
        "id": "8KZoKb97mXUO"
      }
    }
  ]
}